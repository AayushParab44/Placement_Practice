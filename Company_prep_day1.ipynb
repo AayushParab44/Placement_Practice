{
 "cells": [
  {
   "cell_type": "code",
   "execution_count": null,
   "id": "8d3630df-ff01-4e35-b67c-351f8991a74f",
   "metadata": {},
   "outputs": [],
   "source": []
  },
  {
   "cell_type": "code",
   "execution_count": null,
   "id": "5f647e02-321b-442d-bbd0-3a81fa24f348",
   "metadata": {},
   "outputs": [],
   "source": []
  },
  {
   "cell_type": "code",
   "execution_count": null,
   "id": "58df7093-9d39-4ca7-9e5f-19339864d518",
   "metadata": {},
   "outputs": [],
   "source": []
  },
  {
   "cell_type": "code",
   "execution_count": 3,
   "id": "0c99fe88-f07c-40ad-902c-e6dd63202e6d",
   "metadata": {},
   "outputs": [],
   "source": [
    "def gen(n):\n",
    "    for i in range(n):\n",
    "        yield i"
   ]
  },
  {
   "cell_type": "code",
   "execution_count": 4,
   "id": "6b7b3ffa-5f0a-4339-8418-514cf8b4fcb9",
   "metadata": {},
   "outputs": [],
   "source": [
    "x=5"
   ]
  },
  {
   "cell_type": "code",
   "execution_count": 20,
   "id": "0bba2af2-0b79-46a2-9df7-c42b4d09096e",
   "metadata": {},
   "outputs": [],
   "source": [
    "x=gen(5)"
   ]
  },
  {
   "cell_type": "code",
   "execution_count": 21,
   "id": "93aa5101-50b5-420b-ac76-1e496c681c43",
   "metadata": {},
   "outputs": [
    {
     "data": {
      "text/plain": [
       "0"
      ]
     },
     "execution_count": 21,
     "metadata": {},
     "output_type": "execute_result"
    }
   ],
   "source": [
    "next(x)"
   ]
  },
  {
   "cell_type": "code",
   "execution_count": 26,
   "id": "27d17d0a-bd29-48c6-b1ac-3f74c34151dc",
   "metadata": {},
   "outputs": [
    {
     "ename": "StopIteration",
     "evalue": "",
     "output_type": "error",
     "traceback": [
      "\u001b[1;31m---------------------------------------------------------------------------\u001b[0m",
      "\u001b[1;31mStopIteration\u001b[0m                             Traceback (most recent call last)",
      "Cell \u001b[1;32mIn[26], line 1\u001b[0m\n\u001b[1;32m----> 1\u001b[0m \u001b[38;5;28;43mnext\u001b[39;49m\u001b[43m(\u001b[49m\u001b[43mx\u001b[49m\u001b[43m)\u001b[49m\n",
      "\u001b[1;31mStopIteration\u001b[0m: "
     ]
    }
   ],
   "source": [
    "next(x)"
   ]
  },
  {
   "cell_type": "code",
   "execution_count": null,
   "id": "f3de6acb-d56b-420c-8002-b88aebe22a6f",
   "metadata": {},
   "outputs": [],
   "source": []
  },
  {
   "cell_type": "code",
   "execution_count": 27,
   "id": "7d21da1a-2b85-4bf6-b342-90bf1862d72c",
   "metadata": {},
   "outputs": [
    {
     "data": {
      "text/plain": [
       "[0, 2, 4, 6, 8, 10]"
      ]
     },
     "execution_count": 27,
     "metadata": {},
     "output_type": "execute_result"
    }
   ],
   "source": [
    "lst=[i for i in range(0,11) if i%2==0]\n",
    "lst"
   ]
  },
  {
   "cell_type": "code",
   "execution_count": 40,
   "id": "d62775e2-f644-40f4-a726-613569fedefd",
   "metadata": {},
   "outputs": [
    {
     "name": "stdout",
     "output_type": "stream",
     "text": [
      "Hello Aayush, Vedant, Abhay, Vinay!\n"
     ]
    }
   ],
   "source": [
    "hello = lambda *x: f'Hello {x[0]}, {x[1]}, {x[2]}, {x[3]}!'\n",
    "print(hello('Aayush','Vedant','Abhay','Vinay'))"
   ]
  },
  {
   "cell_type": "code",
   "execution_count": null,
   "id": "280e460b-5c8f-4905-9bed-62f6529d4181",
   "metadata": {},
   "outputs": [],
   "source": []
  },
  {
   "cell_type": "code",
   "execution_count": 66,
   "id": "6b4ff7ed-2705-4e0e-b9e5-eeaf9240d707",
   "metadata": {},
   "outputs": [
    {
     "name": "stdout",
     "output_type": "stream",
     "text": [
      "Hello Aayush, Vedant, Abhay, Vinay!\n",
      "{'g': 55, 'h': 20}\n"
     ]
    }
   ],
   "source": [
    "def hello(*x,**y):\n",
    "    print(f'Hello {x[0]}, {x[1]}, {x[2]}, {x[3]}!')\n",
    "    print(y)\n",
    "\n",
    "hello('Aayush','Vedant','Abhay','Vinay',g=55,h=20,)"
   ]
  },
  {
   "cell_type": "code",
   "execution_count": null,
   "id": "8d1682db-94cb-4eac-8936-35ec4cd8bcc1",
   "metadata": {},
   "outputs": [],
   "source": []
  },
  {
   "cell_type": "code",
   "execution_count": 84,
   "id": "1494f5eb-0280-4da7-af14-6f7eb3a5215e",
   "metadata": {},
   "outputs": [
    {
     "name": "stdout",
     "output_type": "stream",
     "text": [
      "Hello Aayush, V!\n"
     ]
    }
   ],
   "source": [
    "name=lambda x,z: f'Hello {x}, {z}!'\n",
    "\n",
    "print(name('Aayush','V'))"
   ]
  },
  {
   "cell_type": "code",
   "execution_count": null,
   "id": "9798684b-18e1-437a-9a12-f75bb25865d2",
   "metadata": {},
   "outputs": [],
   "source": []
  },
  {
   "cell_type": "code",
   "execution_count": null,
   "id": "d89541a7-ced5-4a54-9286-bb2c8e34e94e",
   "metadata": {},
   "outputs": [],
   "source": []
  }
 ],
 "metadata": {
  "kernelspec": {
   "display_name": "Python 3 (ipykernel)",
   "language": "python",
   "name": "python3"
  },
  "language_info": {
   "codemirror_mode": {
    "name": "ipython",
    "version": 3
   },
   "file_extension": ".py",
   "mimetype": "text/x-python",
   "name": "python",
   "nbconvert_exporter": "python",
   "pygments_lexer": "ipython3",
   "version": "3.12.5"
  }
 },
 "nbformat": 4,
 "nbformat_minor": 5
}
