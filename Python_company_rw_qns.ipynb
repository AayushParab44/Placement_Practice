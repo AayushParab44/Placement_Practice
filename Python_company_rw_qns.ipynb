{
 "cells": [
  {
   "cell_type": "code",
   "execution_count": null,
   "id": "55547003-5521-472f-a749-83eb9e3d77a6",
   "metadata": {},
   "outputs": [],
   "source": []
  },
  {
   "cell_type": "code",
   "execution_count": null,
   "id": "6ae4e70f-6d59-4c71-85da-b9a90503796e",
   "metadata": {},
   "outputs": [],
   "source": []
  },
  {
   "cell_type": "code",
   "execution_count": 9,
   "id": "13d89fe1-376d-4eb3-ad68-98fb0db96cb4",
   "metadata": {},
   "outputs": [
    {
     "name": "stdin",
     "output_type": "stream",
     "text": [
      " 5,8,9,3,2,5,5,6,3,2,100,50,50,50,20,2,0,20,10,100,100\n"
     ]
    },
    {
     "data": {
      "text/plain": [
       "20"
      ]
     },
     "execution_count": 9,
     "metadata": {},
     "output_type": "execute_result"
    }
   ],
   "source": [
    "l=list(map(int,input().split(',')))\n",
    "sorted(list(set(l)))[-3]"
   ]
  },
  {
   "cell_type": "code",
   "execution_count": null,
   "id": "abf42050-22a3-4c48-a410-fd17480d3c1f",
   "metadata": {},
   "outputs": [],
   "source": []
  },
  {
   "cell_type": "code",
   "execution_count": 14,
   "id": "fe635a3f-6720-411f-82ce-c69d29e60189",
   "metadata": {},
   "outputs": [
    {
     "name": "stdin",
     "output_type": "stream",
     "text": [
      " 100\n",
      " 4100\n",
      " 5\n"
     ]
    },
    {
     "name": "stdout",
     "output_type": "stream",
     "text": [
      "5\n"
     ]
    }
   ],
   "source": [
    "\n",
    "\n",
    "n=int(input())\n",
    "\n",
    "\n",
    "while n>len(l):\n",
    "    n=int(input())\n",
    "else:\n",
    "    print(n)\n",
    "    "
   ]
  },
  {
   "cell_type": "code",
   "execution_count": null,
   "id": "f9761a5f-3b71-4507-9b30-e1fe173210a5",
   "metadata": {},
   "outputs": [],
   "source": []
  },
  {
   "cell_type": "code",
   "execution_count": 19,
   "id": "476baa8e-fae9-44b0-bf2c-dda55e4c3738",
   "metadata": {},
   "outputs": [
    {
     "name": "stdin",
     "output_type": "stream",
     "text": [
      "Enter the range:  7 17\n"
     ]
    },
    {
     "name": "stdout",
     "output_type": "stream",
     "text": [
      "[7, 11, 13, 17]\n"
     ]
    }
   ],
   "source": [
    "def isprime1(n):\n",
    "    if n<2: return False\n",
    "    for i in range(2,int(n**.5)+1):\n",
    "        if n%i==0: return False\n",
    "\n",
    "    return True\n",
    "\n",
    "a,b=tuple((map(int,input('Enter the range: ').split())))\n",
    "arr=[]\n",
    "for i in range(a,b+1):\n",
    "    if isprime1(i):\n",
    "        arr.append(i)\n",
    "\n",
    "print(arr)"
   ]
  },
  {
   "cell_type": "code",
   "execution_count": null,
   "id": "01cf7388-0e32-4768-a077-6e347d397f67",
   "metadata": {},
   "outputs": [],
   "source": []
  },
  {
   "cell_type": "code",
   "execution_count": 23,
   "id": "a1d41a0f-f186-4442-bc35-8ec8f733bfec",
   "metadata": {},
   "outputs": [
    {
     "name": "stdin",
     "output_type": "stream",
     "text": [
      " 121\n"
     ]
    },
    {
     "data": {
      "text/plain": [
       "False"
      ]
     },
     "execution_count": 23,
     "metadata": {},
     "output_type": "execute_result"
    }
   ],
   "source": [
    "def armstro(n):\n",
    "    sm=0\n",
    "    for i in n:\n",
    "        sm+=int(i)**len(n)   \n",
    "    return sm==int(n)\n",
    "\n",
    "armstro(input())"
   ]
  },
  {
   "cell_type": "code",
   "execution_count": 25,
   "id": "266981c5-a1e0-4224-9c75-a1122e6fac47",
   "metadata": {},
   "outputs": [
    {
     "name": "stdout",
     "output_type": "stream",
     "text": [
      "1\n",
      "2\n",
      "3\n",
      "4\n",
      "5\n",
      "6\n",
      "7\n",
      "8\n",
      "9\n",
      "153\n",
      "370\n",
      "371\n",
      "407\n"
     ]
    }
   ],
   "source": [
    "for i in range(1,1000):\n",
    "    if armstro(str(i)):\n",
    "        print(i)"
   ]
  },
  {
   "cell_type": "code",
   "execution_count": null,
   "id": "0f6aaf87-9805-4fe1-8257-5ecd2973478b",
   "metadata": {},
   "outputs": [],
   "source": []
  },
  {
   "cell_type": "code",
   "execution_count": null,
   "id": "7e51c60b-7b3c-4be3-b510-d2dcb89c60b1",
   "metadata": {},
   "outputs": [],
   "source": [
    "l=[1,2,3,4,5,6]#rotation"
   ]
  },
  {
   "cell_type": "code",
   "execution_count": 39,
   "id": "c40021b1-0e0b-4e65-a120-596c54144c03",
   "metadata": {},
   "outputs": [
    {
     "name": "stdout",
     "output_type": "stream",
     "text": [
      "[4, 5, 6, 1, 2, 3]\n"
     ]
    }
   ],
   "source": [
    "l.insert(0,l.pop())\n",
    "print(l)"
   ]
  },
  {
   "cell_type": "code",
   "execution_count": null,
   "id": "0d6d5cc3-7b46-4613-8ad1-f345a9623342",
   "metadata": {},
   "outputs": [],
   "source": []
  },
  {
   "cell_type": "code",
   "execution_count": 44,
   "id": "a4cc4c58-4d80-477a-8e03-102a9c886c22",
   "metadata": {},
   "outputs": [],
   "source": [
    "l=[1,2,3,5,6,7,9,10]\n",
    "l=[5,1,8,9,2,5,7]\n",
    "a=[i for i in range(min(l),max(l)+1)]"
   ]
  },
  {
   "cell_type": "code",
   "execution_count": 45,
   "id": "bc266e50-b17d-4119-a68d-27e903bc7efe",
   "metadata": {},
   "outputs": [
    {
     "data": {
      "text/plain": [
       "[1, 2, 3, 4, 5, 6, 7, 8, 9]"
      ]
     },
     "execution_count": 45,
     "metadata": {},
     "output_type": "execute_result"
    }
   ],
   "source": [
    "a\n"
   ]
  },
  {
   "cell_type": "code",
   "execution_count": 51,
   "id": "72f3a476-e3e6-4c19-b477-a040b5f60ced",
   "metadata": {},
   "outputs": [
    {
     "name": "stdout",
     "output_type": "stream",
     "text": [
      "{3, 4, 6}\n",
      "{3, 4, 6}\n"
     ]
    }
   ],
   "source": [
    "a=set(a)\n",
    "l=set(l)\n",
    "print(a.difference(l))\n",
    "print(a-l)\n"
   ]
  },
  {
   "cell_type": "code",
   "execution_count": null,
   "id": "eefd2cf3-f70b-49f6-9452-0aaae0b23801",
   "metadata": {},
   "outputs": [],
   "source": []
  },
  {
   "cell_type": "code",
   "execution_count": null,
   "id": "8226c69d-a575-4f65-90cc-2884122d45ef",
   "metadata": {},
   "outputs": [],
   "source": []
  },
  {
   "cell_type": "code",
   "execution_count": 65,
   "id": "1e1a9d4f-149a-477d-aec8-0944679d9ddb",
   "metadata": {},
   "outputs": [
    {
     "name": "stdout",
     "output_type": "stream",
     "text": [
      "{'b': 1, 'd': 3, 'e': 4, 'f': 5, 'g': 6, 'h': 7, 'i': 8, 'j': 9, 'k': 10, 'l': 11, 'm': 12, 'n': 13, 'o': 14, 'p': 15, 'q': 16, 't': 19, 'v': 21, 'w': 22, 'x': 23, 'y': 24}\n"
     ]
    }
   ],
   "source": [
    "lst=['a','b','z']\n",
    "lst=['a','c','u','s','r','z']\n",
    "l=[ord(i) for i in lst]\n",
    "l\n",
    "\n",
    "# new_l=[i for i in range(min(l),max(l)+1)]\n",
    "list(set(new_l)-set(l))\n",
    "\n",
    "new_l0=[chr(i) for i in list(set(new_l)-set(l))]\n",
    "\n",
    "\n",
    "new_l2=[i-97 for i in list(set(new_l)-set(l))]\n",
    "new_l2\n",
    "\n",
    "d=dict(zip(new_l0,new_l2))\n",
    "print(d)"
   ]
  },
  {
   "cell_type": "code",
   "execution_count": 66,
   "id": "34a256b1-27c8-4f02-8ff2-02e3e7f537ab",
   "metadata": {},
   "outputs": [
    {
     "name": "stdout",
     "output_type": "stream",
     "text": [
      "at index 1 inerted b\n",
      "at index 3 inerted d\n",
      "at index 4 inerted e\n",
      "at index 5 inerted f\n",
      "at index 6 inerted g\n",
      "at index 7 inerted h\n",
      "at index 8 inerted i\n",
      "at index 9 inerted j\n",
      "at index 10 inerted k\n",
      "at index 11 inerted l\n",
      "at index 12 inerted m\n",
      "at index 13 inerted n\n",
      "at index 14 inerted o\n",
      "at index 15 inerted p\n",
      "at index 16 inerted q\n",
      "at index 19 inerted t\n",
      "at index 21 inerted v\n",
      "at index 22 inerted w\n",
      "at index 23 inerted x\n",
      "at index 24 inerted y\n",
      "['a', 'b', 'c', 'd', 'e', 'f', 'g', 'h', 'i', 'j', 'k', 'l', 'm', 'n', 'o', 'p', 'q', 'u', 's', 't', 'r', 'v', 'w', 'x', 'y', 'z']\n"
     ]
    }
   ],
   "source": [
    "rst=lst.copy()\n",
    "\n",
    "for k,v in d.items():\n",
    "    rst.insert(v,k)\n",
    "    print(f'at index {v} inerted {k}')\n",
    "\n",
    "print(rst)"
   ]
  },
  {
   "cell_type": "code",
   "execution_count": null,
   "id": "b4912561-77d6-4754-959b-c2e4f33f0ea8",
   "metadata": {},
   "outputs": [],
   "source": []
  },
  {
   "cell_type": "code",
   "execution_count": null,
   "id": "7fa46e1b-10e2-4999-9ba7-da05696846d8",
   "metadata": {},
   "outputs": [],
   "source": [
    "l=[ord(i) for i in lst]\n",
    "l\n",
    "\n",
    "# new_l=[i for i in range(min(l),max(l)+1)]\n",
    "list(set(new_l)-set(l))\n",
    "\n",
    "new_l0=[chr(i) for i in list(set(new_l)-set(l))]\n",
    "\n",
    "\n",
    "new_l2=[i-97 for i in list(set(new_l)-set(l))]\n",
    "new_l2\n",
    "\n",
    "d=dict(zip(new_l0,new_l2))\n",
    "\n",
    "rst=lst.copy()\n",
    "\n",
    "for k,v in d.items():\n",
    "    rst.insert(v,k)\n",
    "    print(f'at index {v} inerted {k}')\n",
    "\n",
    "print(rst)"
   ]
  },
  {
   "cell_type": "code",
   "execution_count": null,
   "id": "c3c8c4df-b090-425a-aad9-43fbe85f7350",
   "metadata": {},
   "outputs": [],
   "source": []
  },
  {
   "cell_type": "code",
   "execution_count": 81,
   "id": "1992f886-0600-4574-a979-843cbb014749",
   "metadata": {},
   "outputs": [
    {
     "data": {
      "text/plain": [
       "{'a': 2, 'e': 2, 'i': 3, 'o': 2, 'u': 1}"
      ]
     },
     "execution_count": 81,
     "metadata": {},
     "output_type": "execute_result"
    }
   ],
   "source": [
    "\n",
    "stri='abcdef'\n",
    "stri='This is a test line for you all'\n",
    "\n",
    "def vow_count(stri):\n",
    "    stri=stri.lower()\n",
    "    \n",
    "    d={}\n",
    "    vow='aeiou'\n",
    "    \n",
    "    \n",
    "    for i in vow:\n",
    "        d[i]=stri.count(i)\n",
    "\n",
    "    return d\n",
    "\n",
    "\n",
    "vow_count(stri)"
   ]
  },
  {
   "cell_type": "code",
   "execution_count": null,
   "id": "ff98ab0c-a2c2-4350-83b9-460dd1c7dfee",
   "metadata": {},
   "outputs": [],
   "source": []
  },
  {
   "cell_type": "code",
   "execution_count": 78,
   "id": "de06d02e-d6c4-41f6-a30c-e5ea44e06465",
   "metadata": {},
   "outputs": [
    {
     "data": {
      "text/plain": [
       "['This is a test line for you all. ', 'fsdfas', 'sdas', 'dsa']"
      ]
     },
     "execution_count": 78,
     "metadata": {},
     "output_type": "execute_result"
    }
   ],
   "source": [
    "line='''This is a test line for you all. \n",
    "fsdfas\n",
    "sdas\n",
    "dsa'''\n",
    "\n",
    "\n",
    "line.splitlines()"
   ]
  },
  {
   "cell_type": "code",
   "execution_count": null,
   "id": "da889a9b-5bd8-461a-a96f-5d59107c2f34",
   "metadata": {},
   "outputs": [],
   "source": []
  },
  {
   "cell_type": "code",
   "execution_count": 82,
   "id": "d35f3f71-5060-4400-b0a4-98d461fc3972",
   "metadata": {},
   "outputs": [],
   "source": [
    "para=\"Shweta, Amit, and Aman decided to go to the park.  Shweta packed a delicious picnic lunch. Amit brought a frisbee, and Aman brought a ball, but Shweta's thoughtful planning made the outing extra special.  Shweta had even remembered to bring sunscreen for everyone.  Amit and Aman enjoyed playing catch, while Shweta relaxed on a blanket, occasionally joining in the fun.  Shweta's contributions made the day enjoyable for Amit and Aman, and especially for hersel\""
   ]
  },
  {
   "cell_type": "code",
   "execution_count": 83,
   "id": "2c58fc14-c60e-4d7b-8c94-b5efc3fa5b75",
   "metadata": {},
   "outputs": [
    {
     "data": {
      "text/plain": [
       "\"Shweta, Amit, and Aman decided to go to the park.  Shweta packed a delicious picnic lunch. Amit brought a frisbee, and Aman brought a ball, but Shweta's thoughtful planning made the outing extra special.  Shweta had even remembered to bring sunscreen for everyone.  Amit and Aman enjoyed playing catch, while Shweta relaxed on a blanket, occasionally joining in the fun.  Shweta's contributions made the day enjoyable for Amit and Aman, and especially for hersel\""
      ]
     },
     "execution_count": 83,
     "metadata": {},
     "output_type": "execute_result"
    }
   ],
   "source": [
    "para"
   ]
  },
  {
   "cell_type": "code",
   "execution_count": null,
   "id": "2b1ca9a4-cdaa-475d-88b6-cc29ce057121",
   "metadata": {},
   "outputs": [],
   "source": []
  },
  {
   "cell_type": "code",
   "execution_count": 84,
   "id": "7e507bd7-58ed-4b65-acb5-6a27c7e7e0a8",
   "metadata": {},
   "outputs": [
    {
     "name": "stdout",
     "output_type": "stream",
     "text": [
      "{'shweta': 1, 'amit': 1, 'aman': 1}\n"
     ]
    }
   ],
   "source": [
    "names=['shweta','amit','aman']\n",
    "para=para.lower()\n",
    "\n",
    "#for  unique counts in a string, first convert it to list then work on that list.\n",
    "di={}\n",
    "para=para.split()\n",
    "for i in names:\n",
    "    di[i]=names.count(i)\n",
    "    \n",
    "print(di)"
   ]
  },
  {
   "cell_type": "code",
   "execution_count": null,
   "id": "6abe9fa4-3be3-41e7-9167-2a60d91e4a52",
   "metadata": {},
   "outputs": [],
   "source": []
  },
  {
   "cell_type": "code",
   "execution_count": null,
   "id": "d5396ba9-eec7-42cc-a84e-e132cff160cc",
   "metadata": {},
   "outputs": [],
   "source": []
  },
  {
   "cell_type": "code",
   "execution_count": null,
   "id": "aa7f564f-38e5-4e33-ad80-9ece17f0728f",
   "metadata": {},
   "outputs": [],
   "source": [
    "#password strength\n",
    "+1 if >8 charcter but should be less than 15 characters\n",
    "+1 if digit\n",
    "+1 if Uppercase\n",
    "+1 if symbol\n",
    "strong=4\n",
    "medium=3\n",
    "weak=2,1"
   ]
  },
  {
   "cell_type": "code",
   "execution_count": null,
   "id": "91ddf25a-2448-4865-837f-f3f25779c41c",
   "metadata": {},
   "outputs": [],
   "source": []
  },
  {
   "cell_type": "code",
   "execution_count": null,
   "id": "53455d99-a8e8-42d3-8629-99e40ef8be5a",
   "metadata": {},
   "outputs": [],
   "source": []
  },
  {
   "cell_type": "code",
   "execution_count": null,
   "id": "d05f46ab-ebe0-4eff-bd39-0c1d6b9b5f5a",
   "metadata": {},
   "outputs": [],
   "source": [
    "#bit map method"
   ]
  },
  {
   "cell_type": "code",
   "execution_count": 89,
   "id": "5e432629-02f1-4d15-b74b-cff513153b65",
   "metadata": {},
   "outputs": [
    {
     "name": "stdout",
     "output_type": "stream",
     "text": [
      "4\n"
     ]
    }
   ],
   "source": [
    "passwd='pAsswd#12'\n",
    "\n",
    "bmap=[0,0,0,0]\n",
    "symbols=['#','!','@','$','&','*','%']\n",
    "if len(passwd)<15:bmap[0]=1\n",
    "for i in passwd:\n",
    "    if i.isdigit(): bmap[1]=1\n",
    "    elif i.isupper(): bmap[2]=1\n",
    "    elif i in symbols: bmap[3]=1\n",
    "\n",
    "print(sum(bmap))"
   ]
  },
  {
   "cell_type": "code",
   "execution_count": 92,
   "id": "d4ee4909-2106-44f3-b230-729d7f1351c5",
   "metadata": {},
   "outputs": [
    {
     "name": "stdout",
     "output_type": "stream",
     "text": [
      "4\n",
      "strong\n"
     ]
    }
   ],
   "source": [
    "def passwd_check(passwd):\n",
    "    bmap=[0,0,0,0]\n",
    "    symbols=['#','!','@','$','&','*','%']\n",
    "    if len(passwd)<15:bmap[0]=1\n",
    "    for i in passwd:\n",
    "        if i.isdigit(): bmap[1]=1\n",
    "        elif i.isupper(): bmap[2]=1\n",
    "        elif i.isalnum(): bmap[3]=1\n",
    "    \n",
    "    return sum(bmap)\n",
    "\n",
    "def passwd_check2(passwd):\n",
    "    pass\n",
    "    \n",
    "\n",
    "passwd='pAsswd#12'\n",
    "print(passwd_check(passwd))\n",
    "\n",
    "if passwd_check(passwd)==1 or passwd_check(passwd)==2: print('weak')\n",
    "elif passwd_check(passwd)==3: print('medium')\n",
    "elif  passwd_check(passwd)==4: print('strong')"
   ]
  },
  {
   "cell_type": "code",
   "execution_count": null,
   "id": "b0e7f6f2-172b-490f-b543-e640d2b2a457",
   "metadata": {},
   "outputs": [],
   "source": []
  },
  {
   "cell_type": "code",
   "execution_count": null,
   "id": "4b94d075-4b41-43ae-a06e-a8cd2501a0cc",
   "metadata": {},
   "outputs": [],
   "source": []
  },
  {
   "cell_type": "code",
   "execution_count": null,
   "id": "b8667d3b-a997-4f1b-9c8c-23acbe7cdb1d",
   "metadata": {},
   "outputs": [],
   "source": []
  },
  {
   "cell_type": "code",
   "execution_count": null,
   "id": "53ff4d9b-308c-4869-a4ee-ff61b40c1e75",
   "metadata": {},
   "outputs": [],
   "source": []
  },
  {
   "cell_type": "code",
   "execution_count": null,
   "id": "ed4e6f1d-22ad-4354-9d21-cbaaa9f789ad",
   "metadata": {},
   "outputs": [],
   "source": []
  }
 ],
 "metadata": {
  "kernelspec": {
   "display_name": "Python 3 (ipykernel)",
   "language": "python",
   "name": "python3"
  },
  "language_info": {
   "codemirror_mode": {
    "name": "ipython",
    "version": 3
   },
   "file_extension": ".py",
   "mimetype": "text/x-python",
   "name": "python",
   "nbconvert_exporter": "python",
   "pygments_lexer": "ipython3",
   "version": "3.12.7"
  }
 },
 "nbformat": 4,
 "nbformat_minor": 5
}
