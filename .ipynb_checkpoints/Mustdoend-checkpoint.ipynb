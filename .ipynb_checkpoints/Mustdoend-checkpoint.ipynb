{
 "cells": [
  {
   "cell_type": "code",
   "execution_count": 4,
   "id": "bfd02d33-13d6-4125-a18b-303bd3a582e9",
   "metadata": {},
   "outputs": [
    {
     "name": "stdout",
     "output_type": "stream",
     "text": [
      "155484\n"
     ]
    }
   ],
   "source": [
    "# Python Coding Questions on Numbers\n",
    "# ● Q1). Write a program to reverse an integer in Python\n",
    "n=48455100\n",
    "r=0\n",
    "while n!=0:\n",
    "    x=n%10\n",
    "    r=r*10+x\n",
    "    n=n//10\n",
    "\n",
    "print(r)"
   ]
  },
  {
   "cell_type": "code",
   "execution_count": 11,
   "id": "cef28c4b-919b-4c54-91e9-7446b60bc706",
   "metadata": {},
   "outputs": [
    {
     "name": "stdout",
     "output_type": "stream",
     "text": [
      "Armstong\n"
     ]
    }
   ],
   "source": [
    "# ● Q2). Write a program in Python to check whether an integer is an Armstrong number or not.\n",
    "n=8208\n",
    "n1=n\n",
    "r=0\n",
    "d=len(str(n))\n",
    "\n",
    "while n!=0:\n",
    "    x=n%10\n",
    "    r=r+x**d\n",
    "    n=n//10\n",
    "\n",
    "# print(r)\n",
    "if r==n1:print('Armstong')\n",
    "else: print('Not Armstrong')    \n",
    "\n",
    "\n",
    "# 1634, 8208, and 9474 - 4 digit armstong numbers"
   ]
  },
  {
   "cell_type": "code",
   "execution_count": 22,
   "id": "9c2ff023-5d11-434e-a4d0-f23498b5425b",
   "metadata": {},
   "outputs": [
    {
     "data": {
      "text/plain": [
       "'Prime'"
      ]
     },
     "execution_count": 22,
     "metadata": {},
     "output_type": "execute_result"
    }
   ],
   "source": [
    "# ● Q3). Write a program in Python to check if a given number is prime or not.\n",
    "\n",
    "def isprimechk(n):\n",
    "    if n>1:\n",
    "        flag=0\n",
    "        for i in range(2,int(n**(0.5)+1)):\n",
    "            if n%i==0:\n",
    "                flag=1\n",
    "                break\n",
    "        if flag==0:return 'Prime'\n",
    "        else: return 'Not prime'\n",
    "    else:\n",
    "        return 'Not prime'\n",
    "\n",
    "isprimechk(19)"
   ]
  },
  {
   "cell_type": "code",
   "execution_count": 28,
   "id": "4d2835a6-7ec6-4eea-b285-0fb9c8f17592",
   "metadata": {},
   "outputs": [
    {
     "name": "stdout",
     "output_type": "stream",
     "text": [
      "1 1 2 3 5 "
     ]
    }
   ],
   "source": [
    "# ● Q4). Write a program in Python to print the Fibonacci series using an iterative method.\n",
    "\n",
    "a,b=1,1\n",
    "print(a,b,end=' ')\n",
    "for i in range(5-2):\n",
    "    a,b=b,a+b\n",
    "    print(b,end=' ')"
   ]
  },
  {
   "cell_type": "code",
   "execution_count": 36,
   "id": "3cff8a51-b7ef-4145-8429-a345f8c2f1e8",
   "metadata": {},
   "outputs": [
    {
     "name": "stdout",
     "output_type": "stream",
     "text": [
      "1 1 2 3 5\n"
     ]
    }
   ],
   "source": []
  },
  {
   "cell_type": "code",
   "execution_count": 37,
   "id": "9d0174a4-e720-498a-98d8-4591e86e6419",
   "metadata": {},
   "outputs": [
    {
     "name": "stdout",
     "output_type": "stream",
     "text": [
      "1 1 2 3 5\n"
     ]
    }
   ],
   "source": [
    "# ● Q5). Write a program in Python to print the fibonacci series using a recursive method.\n",
    "def fib(a,b,n):\n",
    "    # print(b)\n",
    "    n=n-1\n",
    "    if n==1:return str(b)\n",
    "    else:return str(b)+' '+fib(b,a+b,n)\n",
    "\n",
    "print(1,fib(1,1,5))"
   ]
  },
  {
   "cell_type": "code",
   "execution_count": 42,
   "id": "7f95c75a-2521-4bde-ad78-bcb19557b3f3",
   "metadata": {},
   "outputs": [
    {
     "name": "stdout",
     "output_type": "stream",
     "text": [
      "Not\n",
      "989\n"
     ]
    }
   ],
   "source": [
    "# ● Q6). Write a program in Python to check whether a number is palindrome or not using an iterative method.\n",
    "n=9890\n",
    "num=n\n",
    "x=0\n",
    "while n!=0:\n",
    "    r=n%10\n",
    "    x=x*10+r\n",
    "    n=n//10\n",
    "\n",
    "if x==num:\n",
    "    print('Pal')\n",
    "else: \n",
    "    print('Not')\n"
   ]
  },
  {
   "cell_type": "code",
   "execution_count": 48,
   "id": "0c31c9d1-ad19-40ac-8329-0a4b2d2ca997",
   "metadata": {},
   "outputs": [
    {
     "name": "stdout",
     "output_type": "stream",
     "text": [
      "palindrome\n"
     ]
    }
   ],
   "source": [
    "# ● Q7). Write a program in Python to check whether a number is palindrome or not using a recursive method.\n",
    "n=5884885\n",
    "num=n\n",
    "def rec(n,x=0):\n",
    "    if n==0: return x\n",
    "    else: return rec(n//10,x*10+n%10)\n",
    "\n",
    "if rec(n)==num: print('palindrome')\n",
    "else: print('Not')"
   ]
  },
  {
   "cell_type": "code",
   "execution_count": 51,
   "id": "296c4a86-d099-4338-b01a-283d7a458682",
   "metadata": {},
   "outputs": [
    {
     "name": "stdout",
     "output_type": "stream",
     "text": [
      "A is greatest\n"
     ]
    }
   ],
   "source": [
    "# ● Q8). Write a program in Python to find the greatest among three integers.\n",
    "a,b,c=85,5,9\n",
    "\n",
    "if a>b:\n",
    "    if a>c: print('A is greatest')\n",
    "    else: print('C is greatest')\n",
    "else:\n",
    "    if b>c: print('B is greatest')\n",
    "    else: print('C is greatest')"
   ]
  },
  {
   "cell_type": "code",
   "execution_count": 63,
   "id": "fe12de02-110c-4a84-8e43-ad03f28fd169",
   "metadata": {},
   "outputs": [
    {
     "name": "stdout",
     "output_type": "stream",
     "text": [
      "Binary\n"
     ]
    }
   ],
   "source": [
    "# ● Q9). Write a program in Python to check if a number is binary?\n",
    "flag=0\n",
    "n=1010\n",
    "while n!=0:\n",
    "    if n%10 not in (0,1):\n",
    "        flag=1\n",
    "        break\n",
    "    n=n//10\n",
    "\n",
    "if flag==1: print('Not Binary')\n",
    "else: print('Binary')"
   ]
  },
  {
   "cell_type": "code",
   "execution_count": 69,
   "id": "071e3f64-08c0-4401-bcf2-772d9746526e",
   "metadata": {},
   "outputs": [
    {
     "data": {
      "text/plain": [
       "12"
      ]
     },
     "execution_count": 69,
     "metadata": {},
     "output_type": "execute_result"
    }
   ],
   "source": [
    "# ● Q10). Write a program in Python to find the sum of digits of a number using recursion?\n",
    "\n",
    "def sum_rec(n,sm=0):\n",
    "    if n==0: return sm\n",
    "    else: return sum_rec(n//10,sm+n%10)\n",
    "\n",
    "sum_rec(12005040)"
   ]
  },
  {
   "cell_type": "code",
   "execution_count": 71,
   "id": "1521e6ab-db82-4d04-abad-1e5b7b76e070",
   "metadata": {},
   "outputs": [
    {
     "name": "stdout",
     "output_type": "stream",
     "text": [
      "10 5\n"
     ]
    }
   ],
   "source": [
    "# ● Q11). Write a program in Python to swap two numbers without using a third variable?\n",
    "a,b=5,10\n",
    "a,b=b,a\n",
    "print(a,b)"
   ]
  },
  {
   "cell_type": "code",
   "execution_count": 72,
   "id": "a033efcc-5fcc-477d-aee8-528eb16182a4",
   "metadata": {},
   "outputs": [
    {
     "name": "stdout",
     "output_type": "stream",
     "text": [
      "10 5\n"
     ]
    }
   ],
   "source": [
    "# ● Q12). Write a program in Python to swap two numbers using a third variable?\n",
    "a,b=5,10\n",
    "c=a\n",
    "a=b\n",
    "b=c\n",
    "print(a,b)"
   ]
  },
  {
   "cell_type": "code",
   "execution_count": 74,
   "id": "c7bb404e-8496-407d-8e20-b9aeb26bbd81",
   "metadata": {},
   "outputs": [
    {
     "data": {
      "text/plain": [
       "[2, 3, 4]"
      ]
     },
     "execution_count": 74,
     "metadata": {},
     "output_type": "execute_result"
    }
   ],
   "source": [
    "# ● Q13). Write a program in Python to find prime factors of a given integer.\n",
    "\n",
    "#CHECK\n",
    "\n",
    "def primfac(n):\n",
    "    l=[]\n",
    "    for i in range(2,n+1):\n",
    "        if n%i!=0:l.append(i)\n",
    "\n",
    "    return l\n",
    "\n",
    "# primfac(5)"
   ]
  },
  {
   "cell_type": "code",
   "execution_count": null,
   "id": "6032c92f-ef82-4954-b7cf-2dff33f60b92",
   "metadata": {},
   "outputs": [],
   "source": [
    "# ● Q14). Write a program in Python to add two integers without using arithmetic operators?\n",
    "\n"
   ]
  },
  {
   "cell_type": "code",
   "execution_count": 77,
   "id": "bfb639b7-5275-415b-ae64-d76544d092c4",
   "metadata": {},
   "outputs": [
    {
     "data": {
      "text/plain": [
       "'Perfect'"
      ]
     },
     "execution_count": 77,
     "metadata": {},
     "output_type": "execute_result"
    }
   ],
   "source": [
    "# ● Q15). Write a program in Python to find if a given number is perfect or not?\n",
    "\n",
    "def perfnum(n):\n",
    "    x=0\n",
    "    for i in range(1,n):\n",
    "        if n%i==0:\n",
    "            x=x+i\n",
    "\n",
    "    if x==n: return 'Perfect'\n",
    "    else: return 'Not Perfect'\n",
    "\n",
    "perfnum(28)"
   ]
  },
  {
   "cell_type": "code",
   "execution_count": null,
   "id": "53e2c046-9f64-4ad9-bea8-89c1ff943446",
   "metadata": {},
   "outputs": [],
   "source": [
    "# ● Q16). Python Program to find the Average of numbers with explanations.\n"
   ]
  },
  {
   "cell_type": "code",
   "execution_count": 79,
   "id": "9cb8dd82-d5ef-496c-a67a-3ddc7c35af39",
   "metadata": {},
   "outputs": [
    {
     "name": "stdout",
     "output_type": "stream",
     "text": [
      "24\n"
     ]
    }
   ],
   "source": [
    "# ● Q17). Python Program to calculate factorial using iterative method.\n",
    "n=4\n",
    "x=1\n",
    "for i in range(1,n+1):\n",
    "    x=x*i\n",
    "print(x)\n",
    "    "
   ]
  },
  {
   "cell_type": "code",
   "execution_count": 81,
   "id": "3f30f45b-2e51-4a03-9117-35497f1fbc54",
   "metadata": {},
   "outputs": [
    {
     "name": "stdout",
     "output_type": "stream",
     "text": [
      "24\n"
     ]
    }
   ],
   "source": [
    "# ● Q18). Python Program to calculate factorial using recursion.\n",
    "def rec_fact(n):\n",
    "    if n==1: return 1\n",
    "    else: return n*rec_fact(n-1)\n",
    "        \n",
    "print(rec_fact(4))"
   ]
  },
  {
   "cell_type": "code",
   "execution_count": null,
   "id": "5c1da52e-d0d5-40d1-9339-92b737cc30c3",
   "metadata": {},
   "outputs": [],
   "source": [
    "# ● Q19). Python Program to check if a given number is even or odd."
   ]
  },
  {
   "cell_type": "code",
   "execution_count": null,
   "id": "3b436305-291c-4007-b302-31444653756e",
   "metadata": {},
   "outputs": [],
   "source": [
    "def isprime(n):\n",
    "    flag=0\n",
    "    for i in range(2,int(n**0.5)+1):\n",
    "        if n%i==0:\n",
    "            flag=1\n",
    "            break\n",
    "    if flag==0: return True\n",
    "    else: return False\n",
    "\n",
    "# ● Q20). Python program to print first n Prime Number with explanation.\n",
    "n=int(input('Enter value of n: '))\n",
    "z=2\n",
    "print(f'First {n} prime numbers are-')\n",
    "while n!=0:\n",
    "    if isprime(z):\n",
    "        print(z)\n",
    "        n=n-1\n",
    "    z=z+1\n",
    "    "
   ]
  },
  {
   "cell_type": "code",
   "execution_count": 94,
   "id": "9b6e9be4-bc98-4c26-a12b-d624bcaca3cc",
   "metadata": {},
   "outputs": [
    {
     "name": "stdin",
     "output_type": "stream",
     "text": [
      "Enter the range of nos sep by a blank 7 51\n"
     ]
    },
    {
     "name": "stdout",
     "output_type": "stream",
     "text": [
      "The prime numbers in the above range are-\n",
      "7 11 13 17 19 23 29 31 37 41 43 47 "
     ]
    }
   ],
   "source": [
    "# ● Q21). Python Program to print Prime Number in a given range\n",
    "a,b=tuple(map(int,input('Enter the range of nos sep by a blank').split()))\n",
    "print('The prime numbers in the above range are-')\n",
    "for i in range(a,b+1):\n",
    "    if isprime(i)==True: print(i,end=' ')"
   ]
  },
  {
   "cell_type": "code",
   "execution_count": null,
   "id": "6abfdc4a-77e1-4071-b18d-27a5c974ebcf",
   "metadata": {},
   "outputs": [],
   "source": [
    "# ● Q22). Python Program to find Smallest number among three."
   ]
  },
  {
   "cell_type": "code",
   "execution_count": 105,
   "id": "45b21033-b102-46a4-8cae-873725a7e612",
   "metadata": {},
   "outputs": [
    {
     "name": "stdout",
     "output_type": "stream",
     "text": [
      "16.0\n",
      "25\n",
      "216\n"
     ]
    }
   ],
   "source": [
    "import math \n",
    "# ● Q23). Python program to calculate the power using the POW method.\n",
    "print(math.pow(2,4))\n",
    "# ● Q24). Python Program to calculate the power without using POW function.(using for loop)\n",
    "x=1\n",
    "r=5\n",
    "pow=2\n",
    "for i in range(pow):\n",
    "   x=x*r \n",
    "\n",
    "print(x)\n",
    "# ● Q25). Python Program to calculate the power without using POW function.(using while loop).\n",
    "n=6\n",
    "pow=3\n",
    "x=1\n",
    "while pow!=0:\n",
    "    x=x*n\n",
    "    pow-=1\n",
    "\n",
    "print(x)"
   ]
  },
  {
   "cell_type": "code",
   "execution_count": null,
   "id": "bf952e15-cf34-4155-9ca7-6cecfbac8282",
   "metadata": {},
   "outputs": [],
   "source": [
    "# ● Q26). Python Program to calculate the square of a given number.\n",
    "# ● Q27). Python Program to calculate the cube of a given number\n",
    "# ● Q28). Python Program to calculate the square root of a given number."
   ]
  },
  {
   "cell_type": "code",
   "execution_count": null,
   "id": "b48f2df3-ff60-478f-838e-99a062f0a4a2",
   "metadata": {},
   "outputs": [],
   "source": [
    "# ● Q29). Python program to calculate LCM of given two numbers.\n",
    "\n",
    "# ● Q30). Python Program to find GCD or HCF of two numbers.\n",
    "# ● Q31). Python Program to find GCD of two numbers using recursion.\n",
    "# ● Q32). Python Program to Convert Decimal Number into Binary.\n",
    "# ● Q33). Python Program to convert Decimal number to Octal number.\n",
    "# ● Q34). Python Program to check the given year is a leap year or not.\n",
    "# ● Q35). Python Program to convert Celsius to Fahrenheit.\n",
    "# ● Q36). Python Program to convert Fahrenheit to Celsius.\n",
    "# ● Q37). Python program to calculate Simple Interest with explanation."
   ]
  },
  {
   "cell_type": "code",
   "execution_count": null,
   "id": "d3053850-09cc-48cf-9d18-a84842b61da5",
   "metadata": {},
   "outputs": [],
   "source": [
    "# Python Coding Questions on String\n",
    "# ● Q1). Python program to remove given character from String.\n",
    "# ● Q2). Python Program to count occurrences of a given character in string.\n",
    "# ● Q3). Python Program to check if two Strings are Anagram.\n",
    "# ● Q4). Python program to check if a String is palindrome or not.\n",
    "# ● Q5). Python program to check if a given character is a vowel or consonant.\n",
    "# ● Q6). Python program to check if a given character is digit or not.\n",
    "# ● Q7). Python program to check if a given character is digit or not using isdigit() method.\n",
    "# ● Q8). Python program to replace the string space with a given character.\n",
    "# ● Q9). Python program to replace the string space with a given character using replace() method.\n",
    "# ● Q10). Python program to convert lowercase char to uppercase of string.\n",
    "# ● Q11). Python program to convert lowercase vowels to uppercase in string.\n",
    "# ● Q12). Python program to delete vowels in a given string.\n",
    "# ● Q13). Python program to count Occurrence Of Vowels & Consonants in a String.\n",
    "# ● Q14). Python program to print the highest frequency character in a String.\n",
    "# ● Q15). Python program to Replace First Occurrence Of Vowel With ‘-‘ in String.\n",
    "# ● Q16). Python program to count alphabets, digits and special characters.\n",
    "# ● Q17). Python program to separate characters in a given string.\n",
    "# ● Q18). Python program to remove blank space from string.\n",
    "# ● Q19). Python program to concatenate two strings using join() method.\n",
    "# ● Q20). Python program to concatenate two strings using join() method.\n",
    "# ● Q21). Python program to remove repeated characters from string.\n",
    "# ● Q22). Python program to calculate sum of integers in string.\n",
    "# ● Q23). Python program to print all non repeating characters in string.\n",
    "# ● Q24). Python program to copy one string to another string.\n",
    "# ● Q23). Python Program to sort characters of string in ascending order.\n",
    "# ● Q24). Python Program to sort character of string in descending order."
   ]
  },
  {
   "cell_type": "code",
   "execution_count": null,
   "id": "37717dad-3255-44ff-bdc5-17c0649833b0",
   "metadata": {},
   "outputs": [],
   "source": [
    "# Python Coding Questions on Array\n",
    "# ● Q1). Write a program in Python for, In array 1-100 numbers are stored, one number is missing how do you find it.\n",
    "# ● Q2). Write a program in Python for, In an array 1-100 multiple numbers are duplicates, how do you find it.\n",
    "# ● Q3). Write a program in Python for, How to find all pairs in an array of integers whose sum is equal to a given number.\n",
    "# ● Q4). Write a program in Python for, How to compare two arrays equal in size or not.\n",
    "# ● Q5). Write a program in Python to find the largest and smallest number in an array.\n",
    "# ● Q6). Write a program in Python to find the second highest number in an integer array.\n",
    "# ● Q7). Write a program in Python to find the top two maximum numbers in an array?\n",
    "# ● Q8). Write a program in Python to remove duplicate elements from arrays.\n",
    "# ● Q9). Python program to find the top two maximum numbers in an array.\n",
    "# ● Q10). Python program to print arrays in reverse Order.\n",
    "# ● Q11). Python program to reverse an Array in two ways.\n",
    "# ● Q12). Python Program to calculate length of an array.\n",
    "# ● Q13). Python program to insert an element at the end of an Array.\n",
    "# ● 14). Python program to insert elements at a given location in Array.\n",
    "# ● 15). Python Program to delete elements at end of Array.\n",
    "# ● 16). Python Program to delete given element from Array.\n",
    "# ● 17). Python Program to delete element from array at given index.\n",
    "# ● 18). Python Program to find sum of array elements.\n",
    "# ● 19). Python Program to print all even numbers in an array.\n",
    "# ● 20). Python Program to print all odd numbers in an array.\n",
    "# ● 21). Python program to perform left rotation of array elements by two positions.\n",
    "# ● 22). Python program to perform right rotation in array by 2 positions.\n",
    "# ● 23). Python Program to merge two arrays.\n",
    "# ● 24). Python Program to find highest frequency element in array.\n",
    "# ● 25). Python Program to add two numbers using recursion.\n",
    "# ● 26). Python Program to find sum of digit of number using recursion."
   ]
  },
  {
   "cell_type": "code",
   "execution_count": 2,
   "id": "b2cb93a1-7379-445d-a186-a6f898aefbc3",
   "metadata": {},
   "outputs": [],
   "source": [
    "# Interview questions on Linked List\n",
    "class Node:\n",
    "    def __init__(self,val=0,next=None):\n",
    "        self.val=val\n",
    "        self.next=None\n",
    "        \n",
    "a = Node(4)\n",
    "b = Node(2)\n",
    "c = Node(3)\n",
    "d = Node(1)\n",
    "e = Node(7)\n",
    "\n",
    "a.next=b\n",
    "b.next=c\n",
    "c.next=d\n",
    "d.next=e"
   ]
  },
  {
   "cell_type": "code",
   "execution_count": null,
   "id": "51771377-b627-44b9-8ebd-983f1267c4bb",
   "metadata": {},
   "outputs": [],
   "source": [
    "# ● Q1). Python Program to Create and Traverse Singly linked list.\n",
    "# ● Q2). Python program to insert a node in a linked list.\n",
    "\n"
   ]
  },
  {
   "cell_type": "code",
   "execution_count": null,
   "id": "57321081-c40b-42da-a9ea-2a78bacb2752",
   "metadata": {},
   "outputs": [],
   "source": [
    "# 1. Find the frequency of each character of string without using inbuilt\n",
    "# methods\n",
    "# x='asdsadsadsa'\n",
    "# d={}\n",
    "# for i in x:\n",
    "#     d[i]=d.get(i,0)+1\n",
    "# print(d) \n",
    "\n",
    "\n",
    "# 2. Reverse Link List\n",
    "class Node:\n",
    "    def __init__(self,val=0,next=None):\n",
    "        self.val=val\n",
    "        self.next=None\n",
    "        \n",
    "a = Node(4)\n",
    "b = Node(2)\n",
    "c = Node(3)\n",
    "d = Node(1)\n",
    "e = Node(7)\n",
    "\n",
    "a.next=b\n",
    "b.next=c\n",
    "c.next=d\n",
    "d.next=e\n",
    "\n",
    "#print a linked list-\n",
    "head=a\n",
    "# while head!=None:\n",
    "#     print(head.val)\n",
    "#     head=head.next\n",
    "\n",
    "def rev_linked_list(head):\n",
    "    prev=None\n",
    "    curr=head\n",
    "    while curr!=None:\n",
    "        next1= curr.next \n",
    "        curr.next=prev\n",
    "        prev=curr\n",
    "        curr=next1\n",
    "    return prev\n",
    "\n",
    "new_ll=rev_linked_list(a)\n",
    "\n",
    "print(new_ll)\n",
    "    \n",
    "while new_ll!=None:\n",
    "    print(new_ll.val)\n",
    "    new_ll=new_ll.next\n",
    "\n",
    "\n",
    "# ● Q3). Write a program in Python to reverse a singly linked list.\n",
    "\n",
    "# ● Q4). Python Program to search an element in a singly linked list.\n",
    "# ● Q5). Linked list Deletion in Python: At beginning, End, Given location\n",
    "# ● Q6). Write a program in Python to find the 3rd element of Linked List from last in a single pass.\n",
    "# ● Q7). Write a program in Python to find the middle element of a linked list in a single pass."
   ]
  },
  {
   "cell_type": "code",
   "execution_count": null,
   "id": "4bbfafec-10b0-4ad5-9ac1-752e51118bc2",
   "metadata": {},
   "outputs": [],
   "source": []
  },
  {
   "cell_type": "code",
   "execution_count": null,
   "id": "12acd6ff-aafb-4f04-b993-fc1123904892",
   "metadata": {},
   "outputs": [],
   "source": []
  },
  {
   "cell_type": "code",
   "execution_count": 107,
   "id": "01a8dd58-bf50-45fc-8dfe-419c16f8a756",
   "metadata": {},
   "outputs": [
    {
     "name": "stdout",
     "output_type": "stream",
     "text": [
      "fedcba\n"
     ]
    }
   ],
   "source": [
    "x=''\n",
    "s='abcdef'\n",
    "\n",
    "for i in s:\n",
    "    x=i+x\n",
    "\n",
    "print(x)"
   ]
  },
  {
   "cell_type": "code",
   "execution_count": null,
   "id": "dd8200b3-c75c-436b-a2fe-526c6bbc5b3d",
   "metadata": {},
   "outputs": [],
   "source": []
  },
  {
   "cell_type": "code",
   "execution_count": 1,
   "id": "bf9f6ad0-606b-4d0f-b8a2-3119f3fd9d14",
   "metadata": {},
   "outputs": [
    {
     "name": "stdout",
     "output_type": "stream",
     "text": [
      "<__main__.Node object at 0x00000257CF4CF950>\n",
      "7\n",
      "1\n",
      "3\n",
      "2\n",
      "4\n"
     ]
    },
    {
     "name": "stdin",
     "output_type": "stream",
     "text": [
      "Enter the value of n:  4\n"
     ]
    },
    {
     "name": "stdout",
     "output_type": "stream",
     "text": [
      "    \n",
      "   *\n",
      "  ***\n",
      " *****\n",
      "*******\n",
      " *****\n",
      "  ***\n",
      "   *\n"
     ]
    }
   ],
   "source": [
    "# 1. Find the frequency of each character of string without using inbuilt\n",
    "# methods\n",
    "# x='asdsadsadsa'\n",
    "# d={}\n",
    "# for i in x:\n",
    "#     d[i]=d.get(i,0)+1\n",
    "# print(d) \n",
    "\n",
    "\n",
    "# 2. Reverse Link List\n",
    "class Node:\n",
    "    def __init__(self,val=0,next=None):\n",
    "        self.val=val\n",
    "        self.next=None\n",
    "        \n",
    "a = Node(4)\n",
    "b = Node(2)\n",
    "c = Node(3)\n",
    "d = Node(1)\n",
    "e = Node(7)\n",
    "\n",
    "a.next=b\n",
    "b.next=c\n",
    "c.next=d\n",
    "d.next=e\n",
    "\n",
    "#print a linked list-\n",
    "head=a\n",
    "# while head!=None:\n",
    "#     print(head.val)\n",
    "#     head=head.next\n",
    "\n",
    "def rev_linked_list(head):\n",
    "    prev=None\n",
    "    curr=head\n",
    "    while curr!=None:\n",
    "        next1= curr.next \n",
    "        curr.next=prev\n",
    "        prev=curr\n",
    "        curr=next1\n",
    "    return prev\n",
    "\n",
    "new_ll=rev_linked_list(a)\n",
    "\n",
    "print(new_ll)\n",
    "    \n",
    "while new_ll!=None:\n",
    "    print(new_ll.val)\n",
    "    new_ll=new_ll.next\n",
    "\n",
    "\n",
    "##diamond pattern\n",
    "#    *\n",
    "#   ***\n",
    "#  *****\n",
    "# *******   \n",
    "#  *****\n",
    "#   ***\n",
    "#    *\n",
    "n=int(input('Enter the value of n: '))\n",
    "for i in range(n):\n",
    "    print(' '*(n-i)+'*'*i+(i-1)*'*')\n",
    "for i in range(n,0,-1):\n",
    "    print(' '*(n-i)+'*'*i+(i-1)*'*')"
   ]
  },
  {
   "cell_type": "code",
   "execution_count": null,
   "id": "fed2bb86-bf39-4433-ae5a-a06f3fcda4b7",
   "metadata": {},
   "outputs": [],
   "source": []
  }
 ],
 "metadata": {
  "kernelspec": {
   "display_name": "Python 3 (ipykernel)",
   "language": "python",
   "name": "python3"
  },
  "language_info": {
   "codemirror_mode": {
    "name": "ipython",
    "version": 3
   },
   "file_extension": ".py",
   "mimetype": "text/x-python",
   "name": "python",
   "nbconvert_exporter": "python",
   "pygments_lexer": "ipython3",
   "version": "3.12.5"
  }
 },
 "nbformat": 4,
 "nbformat_minor": 5
}
