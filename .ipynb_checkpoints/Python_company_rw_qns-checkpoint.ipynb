{
 "cells": [
  {
   "cell_type": "code",
   "execution_count": null,
   "id": "55547003-5521-472f-a749-83eb9e3d77a6",
   "metadata": {},
   "outputs": [],
   "source": []
  },
  {
   "cell_type": "code",
   "execution_count": null,
   "id": "6ae4e70f-6d59-4c71-85da-b9a90503796e",
   "metadata": {},
   "outputs": [],
   "source": []
  },
  {
   "cell_type": "code",
   "execution_count": 9,
   "id": "13d89fe1-376d-4eb3-ad68-98fb0db96cb4",
   "metadata": {},
   "outputs": [
    {
     "name": "stdin",
     "output_type": "stream",
     "text": [
      " 5,8,9,3,2,5,5,6,3,2,100,50,50,50,20,2,0,20,10,100,100\n"
     ]
    },
    {
     "data": {
      "text/plain": [
       "20"
      ]
     },
     "execution_count": 9,
     "metadata": {},
     "output_type": "execute_result"
    }
   ],
   "source": [
    "l=list(map(int,input().split(',')))\n",
    "sorted(list(set(l)))[-3]"
   ]
  },
  {
   "cell_type": "code",
   "execution_count": null,
   "id": "abf42050-22a3-4c48-a410-fd17480d3c1f",
   "metadata": {},
   "outputs": [],
   "source": []
  },
  {
   "cell_type": "code",
   "execution_count": 14,
   "id": "fe635a3f-6720-411f-82ce-c69d29e60189",
   "metadata": {},
   "outputs": [
    {
     "name": "stdin",
     "output_type": "stream",
     "text": [
      " 100\n",
      " 4100\n",
      " 5\n"
     ]
    },
    {
     "name": "stdout",
     "output_type": "stream",
     "text": [
      "5\n"
     ]
    }
   ],
   "source": [
    "\n",
    "\n",
    "n=int(input())\n",
    "\n",
    "\n",
    "while n>len(l):\n",
    "    n=int(input())\n",
    "else:\n",
    "    print(n)\n",
    "    "
   ]
  },
  {
   "cell_type": "code",
   "execution_count": null,
   "id": "f9761a5f-3b71-4507-9b30-e1fe173210a5",
   "metadata": {},
   "outputs": [],
   "source": []
  },
  {
   "cell_type": "code",
   "execution_count": 19,
   "id": "476baa8e-fae9-44b0-bf2c-dda55e4c3738",
   "metadata": {},
   "outputs": [
    {
     "name": "stdin",
     "output_type": "stream",
     "text": [
      "Enter the range:  7 17\n"
     ]
    },
    {
     "name": "stdout",
     "output_type": "stream",
     "text": [
      "[7, 11, 13, 17]\n"
     ]
    }
   ],
   "source": [
    "def isprime1(n):\n",
    "    if n<2: return False\n",
    "    for i in range(2,int(n**.5)+1):\n",
    "        if n%i==0: return False\n",
    "\n",
    "    return True\n",
    "\n",
    "a,b=tuple((map(int,input('Enter the range: ').split())))\n",
    "arr=[]\n",
    "for i in range(a,b+1):\n",
    "    if isprime1(i):\n",
    "        arr.append(i)\n",
    "\n",
    "print(arr)"
   ]
  },
  {
   "cell_type": "code",
   "execution_count": null,
   "id": "01cf7388-0e32-4768-a077-6e347d397f67",
   "metadata": {},
   "outputs": [],
   "source": []
  },
  {
   "cell_type": "code",
   "execution_count": 23,
   "id": "a1d41a0f-f186-4442-bc35-8ec8f733bfec",
   "metadata": {},
   "outputs": [
    {
     "name": "stdin",
     "output_type": "stream",
     "text": [
      " 121\n"
     ]
    },
    {
     "data": {
      "text/plain": [
       "False"
      ]
     },
     "execution_count": 23,
     "metadata": {},
     "output_type": "execute_result"
    }
   ],
   "source": [
    "def armstro(n):\n",
    "    sm=0\n",
    "    for i in n:\n",
    "        sm+=int(i)**len(n)   \n",
    "    return sm==int(n)\n",
    "\n",
    "armstro(input())"
   ]
  },
  {
   "cell_type": "code",
   "execution_count": 25,
   "id": "266981c5-a1e0-4224-9c75-a1122e6fac47",
   "metadata": {},
   "outputs": [
    {
     "name": "stdout",
     "output_type": "stream",
     "text": [
      "1\n",
      "2\n",
      "3\n",
      "4\n",
      "5\n",
      "6\n",
      "7\n",
      "8\n",
      "9\n",
      "153\n",
      "370\n",
      "371\n",
      "407\n"
     ]
    }
   ],
   "source": [
    "for i in range(1,1000):\n",
    "    if armstro(str(i)):\n",
    "        print(i)"
   ]
  },
  {
   "cell_type": "code",
   "execution_count": null,
   "id": "0f6aaf87-9805-4fe1-8257-5ecd2973478b",
   "metadata": {},
   "outputs": [],
   "source": []
  },
  {
   "cell_type": "code",
   "execution_count": null,
   "id": "7e51c60b-7b3c-4be3-b510-d2dcb89c60b1",
   "metadata": {},
   "outputs": [],
   "source": [
    "l=[1,2,3,4,5,6]#rotation"
   ]
  },
  {
   "cell_type": "code",
   "execution_count": 39,
   "id": "c40021b1-0e0b-4e65-a120-596c54144c03",
   "metadata": {},
   "outputs": [
    {
     "name": "stdout",
     "output_type": "stream",
     "text": [
      "[4, 5, 6, 1, 2, 3]\n"
     ]
    }
   ],
   "source": [
    "l.insert(0,l.pop())\n",
    "print(l)"
   ]
  },
  {
   "cell_type": "code",
   "execution_count": null,
   "id": "0d6d5cc3-7b46-4613-8ad1-f345a9623342",
   "metadata": {},
   "outputs": [],
   "source": []
  },
  {
   "cell_type": "code",
   "execution_count": 44,
   "id": "a4cc4c58-4d80-477a-8e03-102a9c886c22",
   "metadata": {},
   "outputs": [],
   "source": [
    "l=[1,2,3,5,6,7,9,10]\n",
    "l=[5,1,8,9,2,5,7]\n",
    "a=[i for i in range(min(l),max(l)+1)]"
   ]
  },
  {
   "cell_type": "code",
   "execution_count": 45,
   "id": "bc266e50-b17d-4119-a68d-27e903bc7efe",
   "metadata": {},
   "outputs": [
    {
     "data": {
      "text/plain": [
       "[1, 2, 3, 4, 5, 6, 7, 8, 9]"
      ]
     },
     "execution_count": 45,
     "metadata": {},
     "output_type": "execute_result"
    }
   ],
   "source": [
    "a\n"
   ]
  },
  {
   "cell_type": "code",
   "execution_count": 51,
   "id": "72f3a476-e3e6-4c19-b477-a040b5f60ced",
   "metadata": {},
   "outputs": [
    {
     "name": "stdout",
     "output_type": "stream",
     "text": [
      "{3, 4, 6}\n",
      "{3, 4, 6}\n"
     ]
    }
   ],
   "source": [
    "a=set(a)\n",
    "l=set(l)\n",
    "print(a.difference(l))\n",
    "print(a-l)\n"
   ]
  },
  {
   "cell_type": "code",
   "execution_count": null,
   "id": "eefd2cf3-f70b-49f6-9452-0aaae0b23801",
   "metadata": {},
   "outputs": [],
   "source": []
  },
  {
   "cell_type": "code",
   "execution_count": null,
   "id": "8226c69d-a575-4f65-90cc-2884122d45ef",
   "metadata": {},
   "outputs": [],
   "source": []
  },
  {
   "cell_type": "code",
   "execution_count": 65,
   "id": "1e1a9d4f-149a-477d-aec8-0944679d9ddb",
   "metadata": {},
   "outputs": [
    {
     "name": "stdout",
     "output_type": "stream",
     "text": [
      "{'b': 1, 'd': 3, 'e': 4, 'f': 5, 'g': 6, 'h': 7, 'i': 8, 'j': 9, 'k': 10, 'l': 11, 'm': 12, 'n': 13, 'o': 14, 'p': 15, 'q': 16, 't': 19, 'v': 21, 'w': 22, 'x': 23, 'y': 24}\n"
     ]
    }
   ],
   "source": [
    "lst=['a','b','z']\n",
    "lst=['a','c','u','s','r','z']\n",
    "l=[ord(i) for i in lst]\n",
    "l\n",
    "\n",
    "# new_l=[i for i in range(min(l),max(l)+1)]\n",
    "list(set(new_l)-set(l))\n",
    "\n",
    "new_l0=[chr(i) for i in list(set(new_l)-set(l))]\n",
    "\n",
    "\n",
    "new_l2=[i-97 for i in list(set(new_l)-set(l))]\n",
    "new_l2\n",
    "\n",
    "d=dict(zip(new_l0,new_l2))\n",
    "print(d)"
   ]
  },
  {
   "cell_type": "code",
   "execution_count": 66,
   "id": "34a256b1-27c8-4f02-8ff2-02e3e7f537ab",
   "metadata": {},
   "outputs": [
    {
     "name": "stdout",
     "output_type": "stream",
     "text": [
      "at index 1 inerted b\n",
      "at index 3 inerted d\n",
      "at index 4 inerted e\n",
      "at index 5 inerted f\n",
      "at index 6 inerted g\n",
      "at index 7 inerted h\n",
      "at index 8 inerted i\n",
      "at index 9 inerted j\n",
      "at index 10 inerted k\n",
      "at index 11 inerted l\n",
      "at index 12 inerted m\n",
      "at index 13 inerted n\n",
      "at index 14 inerted o\n",
      "at index 15 inerted p\n",
      "at index 16 inerted q\n",
      "at index 19 inerted t\n",
      "at index 21 inerted v\n",
      "at index 22 inerted w\n",
      "at index 23 inerted x\n",
      "at index 24 inerted y\n",
      "['a', 'b', 'c', 'd', 'e', 'f', 'g', 'h', 'i', 'j', 'k', 'l', 'm', 'n', 'o', 'p', 'q', 'u', 's', 't', 'r', 'v', 'w', 'x', 'y', 'z']\n"
     ]
    }
   ],
   "source": [
    "rst=lst.copy()\n",
    "\n",
    "for k,v in d.items():\n",
    "    rst.insert(v,k)\n",
    "    print(f'at index {v} inerted {k}')\n",
    "\n",
    "print(rst)"
   ]
  },
  {
   "cell_type": "code",
   "execution_count": null,
   "id": "b4912561-77d6-4754-959b-c2e4f33f0ea8",
   "metadata": {},
   "outputs": [],
   "source": []
  },
  {
   "cell_type": "code",
   "execution_count": null,
   "id": "7fa46e1b-10e2-4999-9ba7-da05696846d8",
   "metadata": {},
   "outputs": [],
   "source": [
    "l=[ord(i) for i in lst]\n",
    "l\n",
    "\n",
    "# new_l=[i for i in range(min(l),max(l)+1)]\n",
    "list(set(new_l)-set(l))\n",
    "\n",
    "new_l0=[chr(i) for i in list(set(new_l)-set(l))]\n",
    "\n",
    "\n",
    "new_l2=[i-97 for i in list(set(new_l)-set(l))]\n",
    "new_l2\n",
    "\n",
    "d=dict(zip(new_l0,new_l2))\n",
    "\n",
    "rst=lst.copy()\n",
    "\n",
    "for k,v in d.items():\n",
    "    rst.insert(v,k)\n",
    "    print(f'at index {v} inerted {k}')\n",
    "\n",
    "print(rst)"
   ]
  },
  {
   "cell_type": "code",
   "execution_count": null,
   "id": "c3c8c4df-b090-425a-aad9-43fbe85f7350",
   "metadata": {},
   "outputs": [],
   "source": []
  },
  {
   "cell_type": "code",
   "execution_count": 81,
   "id": "1992f886-0600-4574-a979-843cbb014749",
   "metadata": {},
   "outputs": [
    {
     "data": {
      "text/plain": [
       "{'a': 2, 'e': 2, 'i': 3, 'o': 2, 'u': 1}"
      ]
     },
     "execution_count": 81,
     "metadata": {},
     "output_type": "execute_result"
    }
   ],
   "source": [
    "\n",
    "stri='abcdef'\n",
    "stri='This is a test line for you all'\n",
    "\n",
    "def vow_count(stri):\n",
    "    stri=stri.lower()\n",
    "    \n",
    "    d={}\n",
    "    vow='aeiou'\n",
    "    \n",
    "    \n",
    "    for i in vow:\n",
    "        d[i]=stri.count(i)\n",
    "\n",
    "    return d\n",
    "\n",
    "\n",
    "vow_count(stri)"
   ]
  },
  {
   "cell_type": "code",
   "execution_count": null,
   "id": "ff98ab0c-a2c2-4350-83b9-460dd1c7dfee",
   "metadata": {},
   "outputs": [],
   "source": []
  },
  {
   "cell_type": "code",
   "execution_count": 78,
   "id": "de06d02e-d6c4-41f6-a30c-e5ea44e06465",
   "metadata": {},
   "outputs": [
    {
     "data": {
      "text/plain": [
       "['This is a test line for you all. ', 'fsdfas', 'sdas', 'dsa']"
      ]
     },
     "execution_count": 78,
     "metadata": {},
     "output_type": "execute_result"
    }
   ],
   "source": [
    "line='''This is a test line for you all. \n",
    "fsdfas\n",
    "sdas\n",
    "dsa'''\n",
    "\n",
    "\n",
    "line.splitlines()"
   ]
  },
  {
   "cell_type": "code",
   "execution_count": null,
   "id": "da889a9b-5bd8-461a-a96f-5d59107c2f34",
   "metadata": {},
   "outputs": [],
   "source": []
  },
  {
   "cell_type": "code",
   "execution_count": 82,
   "id": "d35f3f71-5060-4400-b0a4-98d461fc3972",
   "metadata": {},
   "outputs": [],
   "source": [
    "para=\"Shweta, Amit, and Aman decided to go to the park.  Shweta packed a delicious picnic lunch. Amit brought a frisbee, and Aman brought a ball, but Shweta's thoughtful planning made the outing extra special.  Shweta had even remembered to bring sunscreen for everyone.  Amit and Aman enjoyed playing catch, while Shweta relaxed on a blanket, occasionally joining in the fun.  Shweta's contributions made the day enjoyable for Amit and Aman, and especially for hersel\""
   ]
  },
  {
   "cell_type": "code",
   "execution_count": 83,
   "id": "2c58fc14-c60e-4d7b-8c94-b5efc3fa5b75",
   "metadata": {},
   "outputs": [
    {
     "data": {
      "text/plain": [
       "\"Shweta, Amit, and Aman decided to go to the park.  Shweta packed a delicious picnic lunch. Amit brought a frisbee, and Aman brought a ball, but Shweta's thoughtful planning made the outing extra special.  Shweta had even remembered to bring sunscreen for everyone.  Amit and Aman enjoyed playing catch, while Shweta relaxed on a blanket, occasionally joining in the fun.  Shweta's contributions made the day enjoyable for Amit and Aman, and especially for hersel\""
      ]
     },
     "execution_count": 83,
     "metadata": {},
     "output_type": "execute_result"
    }
   ],
   "source": [
    "para"
   ]
  },
  {
   "cell_type": "code",
   "execution_count": null,
   "id": "2b1ca9a4-cdaa-475d-88b6-cc29ce057121",
   "metadata": {},
   "outputs": [],
   "source": []
  },
  {
   "cell_type": "code",
   "execution_count": 84,
   "id": "7e507bd7-58ed-4b65-acb5-6a27c7e7e0a8",
   "metadata": {},
   "outputs": [
    {
     "name": "stdout",
     "output_type": "stream",
     "text": [
      "{'shweta': 1, 'amit': 1, 'aman': 1}\n"
     ]
    }
   ],
   "source": [
    "names=['shweta','amit','aman']\n",
    "para=para.lower()\n",
    "\n",
    "#for  unique counts in a string, first convert it to list then work on that list.\n",
    "di={}\n",
    "para=para.split()\n",
    "for i in names:\n",
    "    di[i]=names.count(i)\n",
    "    \n",
    "print(di)"
   ]
  },
  {
   "cell_type": "code",
   "execution_count": null,
   "id": "6abe9fa4-3be3-41e7-9167-2a60d91e4a52",
   "metadata": {},
   "outputs": [],
   "source": []
  },
  {
   "cell_type": "code",
   "execution_count": null,
   "id": "d5396ba9-eec7-42cc-a84e-e132cff160cc",
   "metadata": {},
   "outputs": [],
   "source": []
  },
  {
   "cell_type": "code",
   "execution_count": null,
   "id": "aa7f564f-38e5-4e33-ad80-9ece17f0728f",
   "metadata": {},
   "outputs": [],
   "source": [
    "#password strength\n",
    "+1 if >8 charcter but should be less than 15 characters\n",
    "+1 if digit\n",
    "+1 if Uppercase\n",
    "+1 if symbol\n",
    "strong=4\n",
    "medium=3\n",
    "weak=2,1"
   ]
  },
  {
   "cell_type": "code",
   "execution_count": null,
   "id": "91ddf25a-2448-4865-837f-f3f25779c41c",
   "metadata": {},
   "outputs": [],
   "source": []
  },
  {
   "cell_type": "code",
   "execution_count": null,
   "id": "53455d99-a8e8-42d3-8629-99e40ef8be5a",
   "metadata": {},
   "outputs": [],
   "source": []
  },
  {
   "cell_type": "code",
   "execution_count": null,
   "id": "d05f46ab-ebe0-4eff-bd39-0c1d6b9b5f5a",
   "metadata": {},
   "outputs": [],
   "source": [
    "#bit map method"
   ]
  },
  {
   "cell_type": "code",
   "execution_count": 89,
   "id": "5e432629-02f1-4d15-b74b-cff513153b65",
   "metadata": {},
   "outputs": [
    {
     "name": "stdout",
     "output_type": "stream",
     "text": [
      "4\n"
     ]
    }
   ],
   "source": [
    "passwd='pAsswd#12'\n",
    "\n",
    "bmap=[0,0,0,0]\n",
    "symbols=['#','!','@','$','&','*','%']\n",
    "if len(passwd)<15:bmap[0]=1\n",
    "for i in passwd:\n",
    "    if i.isdigit(): bmap[1]=1\n",
    "    elif i.isupper(): bmap[2]=1\n",
    "    elif i in symbols: bmap[3]=1\n",
    "\n",
    "print(sum(bmap))"
   ]
  },
  {
   "cell_type": "code",
   "execution_count": 92,
   "id": "d4ee4909-2106-44f3-b230-729d7f1351c5",
   "metadata": {},
   "outputs": [
    {
     "name": "stdout",
     "output_type": "stream",
     "text": [
      "4\n",
      "strong\n"
     ]
    }
   ],
   "source": [
    "def passwd_check(passwd):\n",
    "    bmap=[0,0,0,0]\n",
    "    symbols=['#','!','@','$','&','*','%']\n",
    "    if len(passwd)<15:bmap[0]=1\n",
    "    for i in passwd:\n",
    "        if i.isdigit(): bmap[1]=1\n",
    "        elif i.isupper(): bmap[2]=1\n",
    "        elif i.isalnum(): bmap[3]=1\n",
    "    \n",
    "    return sum(bmap)\n",
    "\n",
    "def passwd_check2(passwd):\n",
    "    pass\n",
    "    \n",
    "\n",
    "passwd='pAsswd#12'\n",
    "print(passwd_check(passwd))\n",
    "\n",
    "if passwd_check(passwd)==1 or passwd_check(passwd)==2: print('weak')\n",
    "elif passwd_check(passwd)==3: print('medium')\n",
    "elif  passwd_check(passwd)==4: print('strong')"
   ]
  },
  {
   "cell_type": "code",
   "execution_count": null,
   "id": "b0e7f6f2-172b-490f-b543-e640d2b2a457",
   "metadata": {},
   "outputs": [],
   "source": []
  },
  {
   "cell_type": "code",
   "execution_count": 93,
   "id": "4b94d075-4b41-43ae-a06e-a8cd2501a0cc",
   "metadata": {},
   "outputs": [],
   "source": [
    "# undo redo best example for stack\n",
    "                      "
   ]
  },
  {
   "cell_type": "code",
   "execution_count": null,
   "id": "b8667d3b-a997-4f1b-9c8c-23acbe7cdb1d",
   "metadata": {},
   "outputs": [],
   "source": []
  },
  {
   "cell_type": "code",
   "execution_count": 94,
   "id": "53ff4d9b-308c-4869-a4ee-ff61b40c1e75",
   "metadata": {},
   "outputs": [],
   "source": [
    "# has  a relationship \n",
    "# is a relationship"
   ]
  },
  {
   "cell_type": "code",
   "execution_count": null,
   "id": "ed4e6f1d-22ad-4354-9d21-cbaaa9f789ad",
   "metadata": {},
   "outputs": [],
   "source": []
  },
  {
   "cell_type": "markdown",
   "id": "1858fbc1-d1da-49ce-8f94-ce183cf2a3ff",
   "metadata": {},
   "source": [
    "# Rajasoft previous year-\n"
   ]
  },
  {
   "attachments": {
    "eee33f94-f060-4cc1-bff5-f6dfd1550e85.png": {
     "image/png": "[encoded data removed]"
    }
   },
   "cell_type": "markdown",
   "id": "3407beba-8f89-4460-8090-f40567853abc",
   "metadata": {},
   "source": [
    "![image.png](attachment:eee33f94-f060-4cc1-bff5-f6dfd1550e85.png)"
   ]
  },
  {
   "cell_type": "code",
   "execution_count": 3,
   "id": "f8d66215-d635-4da0-8e40-3a52ad7aabbc",
   "metadata": {},
   "outputs": [
    {
     "name": "stdout",
     "output_type": "stream",
     "text": [
      "100\n",
      "101\n",
      "102\n",
      "103\n",
      "104\n",
      "Cool\n",
      "106\n",
      "107\n",
      "108\n",
      "109\n",
      "Dude\n",
      "111\n",
      "Cool\n",
      "113\n",
      "114\n",
      "115\n",
      "116\n",
      "117\n",
      "118\n",
      "Cool\n",
      "120\n",
      "Dude\n",
      "122\n",
      "123\n",
      "124\n",
      "125\n",
      "Cool\n",
      "127\n",
      "128\n",
      "129\n",
      "130\n",
      "131\n",
      "Dude\n",
      "Cool\n",
      "134\n",
      "135\n",
      "136\n",
      "137\n",
      "138\n",
      "139\n",
      "Cool\n",
      "141\n",
      "142\n",
      "Dude\n",
      "144\n",
      "145\n",
      "146\n",
      "Cool\n",
      "148\n",
      "149\n",
      "150\n",
      "151\n",
      "152\n",
      "153\n",
      "Cool Dude\n",
      "155\n",
      "156\n",
      "157\n",
      "158\n",
      "159\n",
      "160\n",
      "Cool\n",
      "162\n",
      "163\n",
      "164\n",
      "Dude\n",
      "166\n",
      "167\n",
      "Cool\n",
      "169\n",
      "170\n",
      "171\n",
      "172\n",
      "173\n",
      "174\n",
      "Cool\n",
      "Dude\n",
      "177\n",
      "178\n",
      "179\n",
      "180\n",
      "181\n",
      "Cool\n",
      "183\n",
      "184\n",
      "185\n",
      "186\n",
      "Dude\n",
      "188\n",
      "Cool\n",
      "190\n",
      "191\n",
      "192\n",
      "193\n",
      "194\n",
      "195\n",
      "Cool\n",
      "197\n",
      "Dude\n",
      "199\n",
      "200\n",
      "201\n",
      "202\n",
      "Cool\n",
      "204\n",
      "205\n",
      "206\n",
      "207\n",
      "208\n",
      "Dude\n",
      "Cool\n",
      "211\n",
      "212\n",
      "213\n",
      "214\n",
      "215\n",
      "216\n",
      "Cool\n",
      "218\n",
      "219\n",
      "Dude\n",
      "221\n",
      "222\n",
      "223\n",
      "Cool\n",
      "225\n",
      "226\n",
      "227\n",
      "228\n",
      "229\n",
      "230\n",
      "Cool Dude\n",
      "232\n",
      "233\n",
      "234\n",
      "235\n",
      "236\n",
      "237\n",
      "Cool\n",
      "239\n",
      "240\n",
      "241\n",
      "Dude\n",
      "243\n",
      "244\n",
      "Cool\n",
      "246\n",
      "247\n",
      "248\n",
      "249\n",
      "250\n",
      "251\n",
      "Cool\n",
      "Dude\n",
      "254\n",
      "255\n",
      "256\n",
      "257\n",
      "258\n",
      "Cool\n",
      "260\n",
      "261\n",
      "262\n",
      "263\n",
      "Dude\n",
      "265\n",
      "Cool\n",
      "267\n",
      "268\n",
      "269\n",
      "270\n",
      "271\n",
      "272\n",
      "Cool\n",
      "274\n",
      "Dude\n",
      "276\n",
      "277\n",
      "278\n",
      "279\n",
      "Cool\n",
      "281\n",
      "282\n",
      "283\n",
      "284\n",
      "285\n",
      "Dude\n",
      "Cool\n",
      "288\n",
      "289\n",
      "290\n",
      "291\n",
      "292\n",
      "293\n",
      "Cool\n",
      "295\n",
      "296\n",
      "Dude\n",
      "298\n",
      "299\n",
      "300\n",
      "Cool\n",
      "302\n",
      "303\n",
      "304\n",
      "305\n",
      "306\n",
      "307\n",
      "Cool Dude\n",
      "309\n",
      "310\n",
      "311\n",
      "312\n",
      "313\n",
      "314\n",
      "Cool\n",
      "316\n",
      "317\n",
      "318\n",
      "Dude\n",
      "320\n",
      "321\n",
      "Cool\n",
      "323\n",
      "324\n",
      "325\n",
      "326\n",
      "327\n",
      "328\n",
      "Cool\n",
      "Dude\n",
      "331\n",
      "332\n",
      "333\n",
      "334\n",
      "335\n",
      "Cool\n",
      "337\n",
      "338\n",
      "339\n",
      "340\n",
      "Dude\n",
      "342\n",
      "Cool\n",
      "344\n",
      "345\n",
      "346\n",
      "347\n",
      "348\n",
      "349\n",
      "Cool\n",
      "351\n",
      "Dude\n",
      "353\n",
      "354\n",
      "355\n",
      "356\n",
      "Cool\n",
      "358\n",
      "359\n",
      "360\n",
      "361\n",
      "362\n",
      "Dude\n",
      "Cool\n",
      "365\n",
      "366\n",
      "367\n",
      "368\n",
      "369\n",
      "370\n",
      "Cool\n",
      "372\n",
      "373\n",
      "Dude\n",
      "375\n",
      "376\n",
      "377\n",
      "Cool\n",
      "379\n",
      "380\n",
      "381\n",
      "382\n",
      "383\n",
      "384\n",
      "Cool Dude\n",
      "386\n",
      "387\n",
      "388\n",
      "389\n",
      "390\n",
      "391\n",
      "Cool\n",
      "393\n",
      "394\n",
      "395\n",
      "Dude\n",
      "397\n",
      "398\n",
      "Cool\n",
      "400\n",
      "401\n",
      "402\n",
      "403\n",
      "404\n",
      "405\n",
      "Cool\n",
      "Dude\n",
      "408\n",
      "409\n",
      "410\n",
      "411\n",
      "412\n",
      "Cool\n",
      "414\n",
      "415\n",
      "416\n",
      "417\n",
      "Dude\n",
      "419\n",
      "Cool\n",
      "421\n",
      "422\n",
      "423\n",
      "424\n",
      "425\n",
      "426\n",
      "Cool\n",
      "428\n",
      "Dude\n",
      "430\n",
      "431\n",
      "432\n",
      "433\n",
      "Cool\n",
      "435\n",
      "436\n",
      "437\n",
      "438\n",
      "439\n",
      "Dude\n",
      "Cool\n",
      "442\n",
      "443\n",
      "444\n",
      "445\n",
      "446\n",
      "447\n",
      "Cool\n",
      "449\n",
      "450\n",
      "Dude\n",
      "452\n",
      "453\n",
      "454\n",
      "Cool\n",
      "456\n",
      "457\n",
      "458\n",
      "459\n",
      "460\n",
      "461\n",
      "Cool Dude\n",
      "463\n",
      "464\n",
      "465\n",
      "466\n",
      "467\n",
      "468\n",
      "Cool\n",
      "470\n",
      "471\n",
      "472\n",
      "Dude\n",
      "474\n",
      "475\n",
      "Cool\n",
      "477\n",
      "478\n",
      "479\n",
      "480\n",
      "481\n",
      "482\n",
      "Cool\n",
      "Dude\n",
      "485\n",
      "486\n",
      "487\n",
      "488\n",
      "489\n",
      "Cool\n",
      "491\n",
      "492\n",
      "493\n",
      "494\n",
      "Dude\n",
      "496\n",
      "Cool\n",
      "498\n",
      "499\n",
      "500\n"
     ]
    }
   ],
   "source": [
    "for i in range(100,501):\n",
    "    if i%7==0 and i%11==0: print('Cool Dude')\n",
    "    elif i%11==0:print('Dude')\n",
    "    elif i%7==0: print('Cool') \n",
    "    else: print(i)"
   ]
  },
  {
   "attachments": {
    "319e1cea-b1bd-4325-8556-a66dbce711cf.png": {
     "image/png": "[encoded data removed]"
    }
   },
   "cell_type": "markdown",
   "id": "1c059f85-4018-4f1d-bad2-67aef2667878",
   "metadata": {},
   "source": [
    "![image.png](attachment:319e1cea-b1bd-4325-8556-a66dbce711cf.png)"
   ]
  },
  {
   "cell_type": "code",
   "execution_count": 9,
   "id": "1ad773a1-693e-40c1-971b-f60f4e8eb7da",
   "metadata": {},
   "outputs": [
    {
     "name": "stdin",
     "output_type": "stream",
     "text": [
      "Enter the number 1234\n"
     ]
    },
    {
     "name": "stdout",
     "output_type": "stream",
     "text": [
      "1 is the smallest digit in 1234\n"
     ]
    }
   ],
   "source": [
    "s=input('Enter the number')\n",
    "for i in range(0,10):\n",
    "    if str(i) in s: \n",
    "        print(f'{i} is the smallest digit in {s}')\n",
    "        break\n",
    "    "
   ]
  },
  {
   "attachments": {
    "6c603650-b61f-4c2b-8bc7-ad716d5cfba1.png": {
     "image/png": "[encoded data removed]"
    }
   },
   "cell_type": "markdown",
   "id": "0e4c1b98-44f5-42ee-aa7e-edeaea56c884",
   "metadata": {},
   "source": [
    "![image.png](attachment:6c603650-b61f-4c2b-8bc7-ad716d5cfba1.png)"
   ]
  },
  {
   "cell_type": "code",
   "execution_count": 16,
   "id": "e1ea8e8e-ce37-4c22-b66a-75a3103199cb",
   "metadata": {},
   "outputs": [
    {
     "name": "stdin",
     "output_type": "stream",
     "text": [
      "Enter the string Destiny\n"
     ]
    },
    {
     "name": "stdout",
     "output_type": "stream",
     "text": [
      "True\n",
      "True\n"
     ]
    }
   ],
   "source": [
    "s=input('Enter the string')\n",
    "s=s.lower()\n",
    "\n",
    "if len(set(s))==len(s):print(True)\n",
    "else:print(False)\n",
    "\n",
    "\n",
    "#Method2\n",
    "l,flag=[],0\n",
    "for i in s:\n",
    "    if i not in l:l.append(i)\n",
    "    else: \n",
    "        flag=1\n",
    "        break\n",
    "if flag==1:print(False)\n",
    "else: print(True)"
   ]
  },
  {
   "attachments": {
    "72815c18-7928-4a9e-9752-a4017950feef.png": {
     "image/png": "[encoded data removed]"
    }
   },
   "cell_type": "markdown",
   "id": "401c1b7b-11fc-46f2-b932-ba8b0df25437",
   "metadata": {},
   "source": [
    "![image.png](attachment:72815c18-7928-4a9e-9752-a4017950feef.png)"
   ]
  },
  {
   "cell_type": "code",
   "execution_count": 25,
   "id": "589db636-13e0-47ac-8cc6-2d4d3d42f9b6",
   "metadata": {},
   "outputs": [
    {
     "name": "stdin",
     "output_type": "stream",
     "text": [
      "Enter a string 4582\n"
     ]
    },
    {
     "name": "stdout",
     "output_type": "stream",
     "text": [
      "False\n"
     ]
    }
   ],
   "source": [
    "s=input('Enter a string')\n",
    "x=''\n",
    "for i in s:\n",
    "    x=i+x\n",
    "print(x==s)"
   ]
  },
  {
   "cell_type": "code",
   "execution_count": null,
   "id": "a5bb9e72-8d8a-49d4-bef0-cd7265d45895",
   "metadata": {},
   "outputs": [],
   "source": []
  },
  {
   "cell_type": "code",
   "execution_count": null,
   "id": "cc1a44b0-72d7-459b-aaca-71c7aaabb2a6",
   "metadata": {},
   "outputs": [],
   "source": []
  },
  {
   "cell_type": "code",
   "execution_count": null,
   "id": "ff7f3e88-2675-4db3-b0c0-ae999a71d7a4",
   "metadata": {},
   "outputs": [],
   "source": []
  },
  {
   "cell_type": "code",
   "execution_count": null,
   "id": "55d3e917-9a50-432f-bfed-e9769f49b7bf",
   "metadata": {},
   "outputs": [],
   "source": []
  },
  {
   "cell_type": "code",
   "execution_count": null,
   "id": "894befe6-55cd-4260-a5cd-4e559deda8ae",
   "metadata": {},
   "outputs": [],
   "source": []
  },
  {
   "cell_type": "code",
   "execution_count": null,
   "id": "b92f0784-9a59-4483-909a-8bd7eaae91d5",
   "metadata": {},
   "outputs": [],
   "source": []
  }
 ],
 "metadata": {
  "kernelspec": {
   "display_name": "Python 3 (ipykernel)",
   "language": "python",
   "name": "python3"
  },
  "language_info": {
   "codemirror_mode": {
    "name": "ipython",
    "version": 3
   },
   "file_extension": ".py",
   "mimetype": "text/x-python",
   "name": "python",
   "nbconvert_exporter": "python",
   "pygments_lexer": "ipython3",
   "version": "3.12.5"
  }
 },
 "nbformat": 4,
 "nbformat_minor": 5
}
