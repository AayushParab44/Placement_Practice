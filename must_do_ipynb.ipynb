{
 "cells": [
  {
   "cell_type": "code",
   "execution_count": null,
   "id": "f90a67c3-aeff-4432-bf38-6a1305ef0072",
   "metadata": {},
   "outputs": [],
   "source": [
    "# 1. Find the frequency of each character of string without using inbuilt\n",
    "# methods\n",
    "# x='asdsadsadsa'\n",
    "# d={}\n",
    "# for i in x:\n",
    "#     d[i]=d.get(i,0)+1\n",
    "# print(d) \n",
    "\n",
    "\n",
    "# 2. Reverse Link List\n",
    "class Node:\n",
    "    def __init__(self,val=0,next=None):\n",
    "        self.val=val\n",
    "        self.next=None\n",
    "        \n",
    "a = Node(4)\n",
    "b = Node(2)\n",
    "c = Node(3)\n",
    "d = Node(1)\n",
    "e = Node(7)\n",
    "\n",
    "a.next=b\n",
    "b.next=c\n",
    "c.next=d\n",
    "d.next=e\n",
    "\n",
    "#print a linked list-\n",
    "head=a\n",
    "# while head!=None:\n",
    "#     print(head.val)\n",
    "#     head=head.next\n",
    "\n",
    "def rev_linked_list(head):\n",
    "    prev=None\n",
    "    curr=head\n",
    "    while curr!=None:\n",
    "        next1= curr.next \n",
    "        curr.next=prev\n",
    "        prev=curr\n",
    "        curr=next1\n",
    "    return prev\n",
    "\n",
    "new_ll=rev_linked_list(a)\n",
    "\n",
    "print(new_ll)\n",
    "    \n",
    "while new_ll!=None:\n",
    "    print(new_ll.val)\n",
    "    new_ll=new_ll.next\n",
    "\n",
    "\n",
    "##diamond pattern\n",
    "#    *\n",
    "#   ***\n",
    "#  *****\n",
    "# *******   \n",
    "#  *****\n",
    "#   ***\n",
    "#    *\n",
    "n=int(input('Enter the value of n: '))\n",
    "for i in range(n):\n",
    "    print(' '*(n-i)+'*'*i+(i-1)*'*')\n",
    "for i in range(n,0,-1):\n",
    "    print(' '*(n-i)+'*'*i+(i-1)*'*')"
   ]
  },
  {
   "cell_type": "code",
   "execution_count": 4,
   "id": "a6b8d1cb-3099-45d2-93ce-cae4fa83bbe6",
   "metadata": {},
   "outputs": [
    {
     "name": "stdout",
     "output_type": "stream",
     "text": [
      "hgfedcba\n"
     ]
    }
   ],
   "source": [
    "# 3. Write a Python program to reverse the order of the items in the array.\n",
    "# Sample Output\n",
    "# Original array: array('i', [1, 3, 5, 3, 7, 1, 9, 3])\n",
    "# Reverse the order of the items:\n",
    "# array('i', [3, 9, 1, 7, 3, 5, 3, 1])\n",
    "\n",
    "#reverse a string=\n",
    "s='abcdefgh'\n",
    "x=''\n",
    "for i in s:\n",
    "    x=i+x\n",
    "print(x)\n",
    "\n",
    "# arr = [1, 3, 5, 3, 7, 1, 9, 3]\n",
    "# print(arr[::-1])\n",
    "\n",
    "# while True:\n",
    "#     x=arr.pop\n",
    "#     x.append(\n",
    "#     )"
   ]
  },
  {
   "cell_type": "code",
   "execution_count": null,
   "id": "63d0b10b-3141-4068-95c8-f2ea09aeceff",
   "metadata": {},
   "outputs": [],
   "source": [
    "# 4. Write a program to print the sum of two numbers using variables.\n",
    "# 5. Write a program to swap two numbers without a third variable.\n",
    "a,b=5,6\n",
    "a,b=b,a\n",
    "print('a=',a)\n",
    "print('b=',b)"
   ]
  },
  {
   "cell_type": "code",
   "execution_count": null,
   "id": "a34adb78-6cde-4e4d-aa4c-9ea49f108163",
   "metadata": {},
   "outputs": [
    {
     "name": "stdout",
     "output_type": "stream",
     "text": [
      "a= 6\n",
      "b= 5\n",
      "a,b= 6 5\n"
     ]
    }
   ],
   "source": [
    "# 6. Write a program to swap two numbers with a third variable.\n",
    "a,b=5,6\n",
    "c=a\n",
    "a=b\n",
    "b=c\n",
    "print('a,b=',a,b)"
   ]
  },
  {
   "cell_type": "code",
   "execution_count": null,
   "id": "72f7a2de-26bf-4381-8532-825354f0b503",
   "metadata": {},
   "outputs": [],
   "source": []
  },
  {
   "cell_type": "code",
   "execution_count": 9,
   "id": "116b118b-fa84-4509-b42c-b174c29d27c7",
   "metadata": {},
   "outputs": [
    {
     "data": {
      "text/plain": [
       "3"
      ]
     },
     "execution_count": 9,
     "metadata": {},
     "output_type": "execute_result"
    }
   ],
   "source": [
    "# 7. Write a Python program to get the number of occurrences of a specified\n",
    "# element in an array.\n",
    "# Sample Output:\n",
    "# Original array: array('i', [1, 3, 5, 3, 7, 9, 3])\n",
    "# Number of occurrences of the number 3 in the said array: 3\n",
    "\n",
    "n=int(int\n",
    "      +\n",
    "i = [1, 3, 5, 3, 7, 9, 3]\n",
    "print(i.count(3)"
   ]
  },
  {
   "cell_type": "code",
   "execution_count": null,
   "id": "5d9a4974-1383-45f6-979a-31d004c6555c",
   "metadata": {},
   "outputs": [],
   "source": [
    "# 8. Write a program to check whether a number is positive, negative or\n",
    "# zero.\n",
    "# 9. Write a program to check whether a number is prime or not.\n",
    "# 10. Write a program to check whether a number is odd or even.\n",
    "# 11. Write a language program in which accepts the user's first and last\n",
    "# name and prints them in reverse order with a space between them.\n",
    "# Sample Output:\n",
    "# Input First Name: Vineeta\n",
    "# Input Last Name: Singh\n",
    "# Name in reverse is: Singh Vineeta\n",
    "# 12. Write a program to swap first and last digits of any number.\n",
    "# Sample Output:\n",
    "# Input any number: 12345\n",
    "# The number after swapping the first and last digits are: 52341\n",
    "# 9. Write a program which prints three highest numbers from a list of\n",
    "# numbers in descending order.\n",
    "# 10. Write a program to add all the numbers from 1 to a given number\n",
    "\n",
    "# Sample output:\n",
    "# Add 1 to 4: 10\n",
    "# Add 1 to 100: 5050\n",
    "\n",
    "# 11. Write a program to read an integer n and prints the factorial of n, assume\n",
    "# that n = 10(n can be any number)\n",
    "\n",
    "# 12. Write a program to replace all the lower-case letters of a given string\n",
    "# with the corresponding capital letters\n",
    "\n",
    "# Sample Output:\n",
    "# Input String: Vineeta\n",
    "# Output String: VINEETA\n",
    "\n",
    "# 13. Write a program to print Fibonacci series without using recursion and\n",
    "# using recursion.\n",
    "\n",
    "# 14. Write a program to check palindrome numbers.\n",
    "\n",
    "# 15. Write a program to check whether a string is palindrome or not.\n",
    "\n",
    "# 16.Write a program to check Whether a number is Armstrong or not.\n",
    "# 17. Write a program to print the sum of digits.\n",
    "# Input: 624\n",
    "# Output: 12\n",
    "# 18. Write a program to reverse a given number\n",
    "# Input: 1 2 3\n",
    "# Output: 3 2 1\n",
    "# 19. Write a program to convert decimal numbers to binary.\n",
    "# Input: 9\n",
    "# Output: 1001"
   ]
  }
 ],
 "metadata": {
  "kernelspec": {
   "display_name": "Python 3 (ipykernel)",
   "language": "python",
   "name": "python3"
  },
  "language_info": {
   "codemirror_mode": {
    "name": "ipython",
    "version": 3
   },
   "file_extension": ".py",
   "mimetype": "text/x-python",
   "name": "python",
   "nbconvert_exporter": "python",
   "pygments_lexer": "ipython3",
   "version": "3.12.5"
  }
 },
 "nbformat": 4,
 "nbformat_minor": 5
}
