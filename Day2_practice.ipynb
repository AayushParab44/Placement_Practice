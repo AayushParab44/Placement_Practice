{
 "cells": [
  {
   "cell_type": "code",
   "execution_count": 8,
   "id": "a1f922b7-0c12-47ee-8860-ef395cf8f132",
   "metadata": {},
   "outputs": [
    {
     "data": {
      "text/plain": [
       "[20, 20, 27, 27, 71, 71]"
      ]
     },
     "execution_count": 8,
     "metadata": {},
     "output_type": "execute_result"
    }
   ],
   "source": [
    "def max_sl(arr,ws):\n",
    "    lst=[]\n",
    "    l=0\n",
    "    r=l+ws\n",
    "    while r!=len(arr):\n",
    "        # print(lst)\n",
    "        lst.append(max(arr[l:r]))\n",
    "        l=l+1\n",
    "        r=l+ws\n",
    "    return lst\n",
    "\n",
    "max_sl([10,20,16,19,7,27,13,71,2,11],4)"
   ]
  },
  {
   "cell_type": "code",
   "execution_count": null,
   "id": "d37a72a2-5e2d-4f35-bf7a-aef0e7e157b3",
   "metadata": {},
   "outputs": [],
   "source": []
  },
  {
   "cell_type": "code",
   "execution_count": null,
   "id": "ac7feb9d-dd46-41b9-b6b9-c5d1f1b0b765",
   "metadata": {},
   "outputs": [],
   "source": []
  },
  {
   "cell_type": "code",
   "execution_count": 9,
   "id": "3c2e7a40-c39e-462d-8ec4-feabcbd0eb5c",
   "metadata": {},
   "outputs": [],
   "source": [
    "# # mx window code-\n",
    "\n",
    "# def max_win(arr,ws):\n",
    "#     lst=[]\n",
    "#     l=0\n",
    "#     r=l+ws\n",
    "#     sm=0\n",
    "#     while r!=len(arr):\n",
    "#         # print(lst)\n",
    "#         if mx<max(arr[l:r])\n",
    "#             # (sum(arr[l:r]))\n",
    "#         l=l+1\n",
    "#         r=l+ws\n",
    "#     return lst\n",
    "\n",
    "# max_sl([10,20,16,19,7,27,13,71,2,11],4)"
   ]
  },
  {
   "cell_type": "code",
   "execution_count": null,
   "id": "a594846e-699c-4d48-8a12-26232424d484",
   "metadata": {},
   "outputs": [],
   "source": []
  },
  {
   "cell_type": "code",
   "execution_count": 11,
   "id": "46e4801e-7e9d-4e0e-9ef8-eb6418472ddb",
   "metadata": {},
   "outputs": [
    {
     "name": "stdin",
     "output_type": "stream",
     "text": [
      "Enter value of n:  3\n",
      "Enter the values of the row sep by a space-  4 5 6\n",
      "Enter the values of the row sep by a space-  2 1 3\n",
      "Enter the values of the row sep by a space-  7 8 9\n"
     ]
    },
    {
     "name": "stdout",
     "output_type": "stream",
     "text": [
      "[[4, 5, 6], [2, 1, 3], [7, 8, 9]]\n"
     ]
    }
   ],
   "source": [
    "n= int(input('Enter value of n: '))\n",
    "lst=[]\n",
    "for i in range(n):\n",
    "    row=list(map(int,input('Enter the values of the row sep by a space- ').split(' ')))\n",
    "    lst.append(row)\n",
    "\n",
    "print(lst)\n",
    "    \n",
    "    "
   ]
  },
  {
   "cell_type": "code",
   "execution_count": null,
   "id": "3763345d-c3f9-4636-adc8-8d024053f4a7",
   "metadata": {},
   "outputs": [],
   "source": []
  },
  {
   "cell_type": "code",
   "execution_count": 13,
   "id": "90d656ad-ff7e-4f52-b919-bc26297d3877",
   "metadata": {},
   "outputs": [
    {
     "name": "stdin",
     "output_type": "stream",
     "text": [
      "Enter num of rows:  4\n",
      "Enter num of columns:  5\n",
      "Enter the values of the row sep by a space-  1 2 4 5  7\n",
      "Enter the values of the row sep by a space-  4 2  7 5 2 \n",
      "Enter the values of the row sep by a space-  7 4 5 2 3 \n",
      "Enter the values of the row sep by a space-  7 56 7 2 4\n"
     ]
    },
    {
     "name": "stdout",
     "output_type": "stream",
     "text": [
      "[[1, 2, 4, 5, 7], [4, 2, 7, 5, 2], [7, 4, 5, 2, 3], [7, 56, 7, 2, 4]]\n"
     ]
    }
   ],
   "source": [
    "m = int(input('Enter num of rows: '))\n",
    "n = int(input('Enter num of columns: '))\n",
    "\n",
    "lst=[]\n",
    "for i in range(m):\n",
    "    row=list(map(int,input('Enter the values of the row sep by a space- ').split()))\n",
    "    lst.append(row)\n",
    "\n",
    "\n",
    "\n",
    "print(lst)"
   ]
  },
  {
   "cell_type": "code",
   "execution_count": null,
   "id": "dad3b979-36b9-4c5b-863a-e3824747eb04",
   "metadata": {},
   "outputs": [],
   "source": []
  },
  {
   "cell_type": "code",
   "execution_count": 20,
   "id": "56f27b50-3bd4-47f6-9ddc-4d0d864babe1",
   "metadata": {},
   "outputs": [
    {
     "name": "stdin",
     "output_type": "stream",
     "text": [
      "Enter num of rows:  4\n",
      "Enter num of columns:  5\n"
     ]
    },
    {
     "name": "stdout",
     "output_type": "stream",
     "text": [
      "[0, 0, 0, 0, 0]\n",
      "[0, 0, 0, 0, 0]\n",
      "[0, 0, 0, 0, 0]\n",
      "[0, 0, 0, 0, 0]\n"
     ]
    }
   ],
   "source": [
    "m = int(input('Enter num of rows: '))\n",
    "n = int(input('Enter num of columns: '))\n",
    "\n",
    "lst=[[0]*m]\n",
    "\n",
    "\n",
    "for i in range(m):\n",
    "    lst.append([0]*n)\n",
    "\n",
    "\n",
    "for i in range(m):\n",
    "    print(lst[m])"
   ]
  },
  {
   "cell_type": "code",
   "execution_count": null,
   "id": "21782b5c-ec2d-49e1-a546-8f589047c9ef",
   "metadata": {},
   "outputs": [],
   "source": []
  },
  {
   "cell_type": "code",
   "execution_count": null,
   "id": "d4671011-1084-4c2d-8528-0b383a016c15",
   "metadata": {},
   "outputs": [],
   "source": []
  },
  {
   "cell_type": "code",
   "execution_count": null,
   "id": "01353321-a0a6-4b1b-9e17-8d4065fac041",
   "metadata": {},
   "outputs": [],
   "source": []
  },
  {
   "cell_type": "code",
   "execution_count": 25,
   "id": "ff7accb2-bb90-4ac7-946e-ddfc1f82968e",
   "metadata": {},
   "outputs": [
    {
     "data": {
      "text/plain": [
       "{'a': 10, 'b': 34, 'c': 8, 'd': 16, 'e': 52}"
      ]
     },
     "execution_count": 25,
     "metadata": {},
     "output_type": "execute_result"
    }
   ],
   "source": [
    "di={'a':10,'b':34,'c':8,'d':16,'e':52}\n",
    "di"
   ]
  },
  {
   "cell_type": "code",
   "execution_count": 60,
   "id": "4e9d6cc7-bcde-4c87-b86d-2459566ba84a",
   "metadata": {},
   "outputs": [
    {
     "name": "stdin",
     "output_type": "stream",
     "text": [
      "Enter your name:  k\n"
     ]
    },
    {
     "name": "stdout",
     "output_type": "stream",
     "text": [
      "\n",
      "Welcome k\n",
      "\n",
      "Name of celeb is :Shah Rukh Khan. Guess their age\n"
     ]
    },
    {
     "name": "stdin",
     "output_type": "stream",
     "text": [
      "Guess age of above celeb 45\n"
     ]
    },
    {
     "name": "stdout",
     "output_type": "stream",
     "text": [
      "More than this\n",
      "\n"
     ]
    },
    {
     "name": "stdin",
     "output_type": "stream",
     "text": [
      "Guess age of above celeb 54\n"
     ]
    },
    {
     "name": "stdout",
     "output_type": "stream",
     "text": [
      "More than this\n",
      "\n"
     ]
    },
    {
     "name": "stdin",
     "output_type": "stream",
     "text": [
      "Guess age of above celeb 57\n"
     ]
    },
    {
     "name": "stdout",
     "output_type": "stream",
     "text": [
      "More than this\n",
      "\n"
     ]
    },
    {
     "name": "stdin",
     "output_type": "stream",
     "text": [
      "Guess age of above celeb 58\n"
     ]
    },
    {
     "name": "stdout",
     "output_type": "stream",
     "text": [
      "Correct\n",
      "The correct age of Shah Rukh Khan is 58\n",
      "\n",
      "Congrats k! you guessed it in 4 pass(es)\n",
      "Bonus:  4000\n"
     ]
    }
   ],
   "source": [
    "#Gamification coding\n",
    "#create dic of celebrities with their age\n",
    "indian_celebrities = {\n",
    "    \"Shah Rukh Khan\": 58,\n",
    "    \"Salman Khan\": 57,\n",
    "    \"Aamir Khan\": 58,\n",
    "    \"Hrithik Roshan\": 49,\n",
    "    \"Ranbir Kapoor\": 41,\n",
    "    \"Deepika Padukone\": 37,\n",
    "    \"Priyanka Chopra\": 41,\n",
    "    \"Alia Bhatt\": 30,\n",
    "    \"Katrina Kaif\": 40,\n",
    "    \"Kareena Kapoor Khan\": 43,\n",
    "}\n",
    "\n",
    "import random\n",
    "choose=random.choice(list(indian_celebrities.keys()))\n",
    "\n",
    "i=0\n",
    "name=input('Enter your name: ')\n",
    "print(f'\\nWelcome {name}')\n",
    "\n",
    "print()\n",
    "\n",
    "pts=100\n",
    "flag=0\n",
    "\n",
    "print(f'Name of celeb is :{choose}. Guess their age',end='\\n')\n",
    "while pts!=0:\n",
    "    # print('Wrong')\n",
    "    n=int(input('Guess age of above celeb'))\n",
    "    i+=1\n",
    "    pts-=20\n",
    "    \n",
    "    if indian_celebrities[choose]==n:\n",
    "        print('Correct')\n",
    "        print(f'The correct age of {choose} is {indian_celebrities[choose]}')\n",
    "        flag=1\n",
    "        print()\n",
    "        break\n",
    "    else:\n",
    "        if n< indian_celebrities[choose]: print('More than this')\n",
    "        else: print('Less than this')\n",
    "    \n",
    "    print()\n",
    "\n",
    "if flag==1:\n",
    "    bonus=pts*100\n",
    "    print(f'Congrats {name}! you guessed it in {i} pass(es)')\n",
    "    print('Bonus: ',bonus+20*100)\n",
    "else: print('You lost bruh')"
   ]
  },
  {
   "cell_type": "code",
   "execution_count": null,
   "id": "99bf1c50-fec1-4d18-baa8-3ea86f93c10f",
   "metadata": {},
   "outputs": [],
   "source": []
  },
  {
   "cell_type": "code",
   "execution_count": null,
   "id": "c1e80c50-2c2d-40e7-b3df-167385e8bb42",
   "metadata": {},
   "outputs": [],
   "source": []
  },
  {
   "cell_type": "code",
   "execution_count": null,
   "id": "82780a5c-d586-4850-a56f-05d087df5210",
   "metadata": {},
   "outputs": [],
   "source": []
  },
  {
   "cell_type": "code",
   "execution_count": null,
   "id": "75f0dd5a-0865-4e0f-bd7a-43f00b5eece7",
   "metadata": {},
   "outputs": [],
   "source": []
  },
  {
   "cell_type": "code",
   "execution_count": 110,
   "id": "4c12a9e6-3273-4cd4-b82a-fc0d1c9c630d",
   "metadata": {},
   "outputs": [],
   "source": [
    "class Employee:\n",
    "    def __init__(self,name,number,amt):\n",
    "        self.name=name\n",
    "        self.number=number\n",
    "        self.amt=amt\n",
    "\n",
    "    def withdraw(self,x):\n",
    "        self.amt=self.amt-x\n",
    "\n",
    "    def check_bal_good(self):\n",
    "        return True if self.amt-500>500 else False\n",
    "        \n",
    "    def dep(self,x):\n",
    "        self.amt=self.amt+x\n",
    "\n",
    "    def bal(self):\n",
    "        print(self.amt)\n",
    "        "
   ]
  },
  {
   "cell_type": "code",
   "execution_count": 117,
   "id": "cba6c406-964e-449d-adb6-84a906fd3c90",
   "metadata": {},
   "outputs": [
    {
     "name": "stdout",
     "output_type": "stream",
     "text": [
      "Less balance\n"
     ]
    }
   ],
   "source": [
    "e1= Employee('x','44',500)\n",
    "e2= Employee('y','787',1000)\n",
    "\n",
    "\n",
    "if e1.check_bal_good():\n",
    "    e1.withdraw(500)\n",
    "    e2.dep(500)\n",
    "else:\n",
    "    print('Less balance')\n",
    "\n"
   ]
  },
  {
   "cell_type": "code",
   "execution_count": 118,
   "id": "ccf41b03-ee73-4842-b017-b5b69abfbef9",
   "metadata": {},
   "outputs": [
    {
     "name": "stdout",
     "output_type": "stream",
     "text": [
      "500\n"
     ]
    }
   ],
   "source": [
    "e1.bal()"
   ]
  },
  {
   "cell_type": "code",
   "execution_count": 119,
   "id": "ac55ecd2-dac7-4683-b59c-02edc9f46cc6",
   "metadata": {},
   "outputs": [
    {
     "name": "stdout",
     "output_type": "stream",
     "text": [
      "1000\n"
     ]
    }
   ],
   "source": [
    "e2.bal()"
   ]
  },
  {
   "cell_type": "code",
   "execution_count": null,
   "id": "62ca079b-d6ca-48de-984c-f01ba0cf2d9e",
   "metadata": {},
   "outputs": [],
   "source": []
  },
  {
   "cell_type": "code",
   "execution_count": 130,
   "id": "b6069e1c-961d-42e2-8336-b41a4f7debd3",
   "metadata": {},
   "outputs": [],
   "source": [
    "#create class employee\n",
    "#having name,number,amount\n",
    "'''\n",
    "use transfer to transfer amount X from employee 1 to employee 2\n",
    "iff left_amount >500\n",
    "'''\n",
    "class Employee:\n",
    "    def __init__(self,name,number,amount):\n",
    "        self.name=name\n",
    "        self.amount=amount\n",
    "        self.number=number\n",
    "    def __str__(self):\n",
    "        return self.name+\" has \"+ str(self.amount)+\" with him\"\n",
    "\n",
    "def transfer(e1,e2,amount):\n",
    "    if e1.amount-amount>500:\n",
    "        e1.amount-=amount\n",
    "        e2.amount+=amount\n",
    "    else:\n",
    "        print(\"Can not transfer limt reached:\")\n",
    "\n"
   ]
  },
  {
   "cell_type": "code",
   "execution_count": 134,
   "id": "c9f87bc6-274b-4280-9c4b-1f8382a3903e",
   "metadata": {},
   "outputs": [
    {
     "name": "stdin",
     "output_type": "stream",
     "text": [
      "Name: l\n",
      "Number ? 4\n",
      "Amount >5000: 564545\n"
     ]
    }
   ],
   "source": [
    "#allow object to be created iff amount given is 5000+\n",
    "#else keep asking\n",
    "name=input(\"Name:\")\n",
    "number=int(input(\"Number ?\"))\n",
    "while True:\n",
    "    amount=float(input(\"Amount >5000:\"))\n",
    "    if amount>=5000:\n",
    "        break\n",
    "    else:\n",
    "        print(\"Enter greater than 5000\")\n",
    "\n",
    "e1=Employee(name,number,amount)\n",
    "e2=Employee(\"XYZ\",2,80)"
   ]
  },
  {
   "cell_type": "code",
   "execution_count": 135,
   "id": "79dd5b9d-0b71-45e1-b397-9859ae918711",
   "metadata": {},
   "outputs": [
    {
     "name": "stdout",
     "output_type": "stream",
     "text": [
      "l has 564545.0 with him\n",
      "XYZ has 80 with him\n",
      "l has 559545.0 with him\n",
      "XYZ has 5080 with him\n"
     ]
    }
   ],
   "source": [
    "print(e1)\n",
    "print(e2)\n",
    "transfer(e1,e2,5000)\n",
    "print(e1)\n",
    "print(e2)"
   ]
  },
  {
   "cell_type": "code",
   "execution_count": null,
   "id": "465eac89-7656-44fc-8fc7-bd98a5eba534",
   "metadata": {},
   "outputs": [],
   "source": []
  },
  {
   "cell_type": "code",
   "execution_count": null,
   "id": "dac3fb9b-e843-4edf-b4d2-0049fe1fb503",
   "metadata": {},
   "outputs": [],
   "source": []
  }
 ],
 "metadata": {
  "kernelspec": {
   "display_name": "Python 3 (ipykernel)",
   "language": "python",
   "name": "python3"
  },
  "language_info": {
   "codemirror_mode": {
    "name": "ipython",
    "version": 3
   },
   "file_extension": ".py",
   "mimetype": "text/x-python",
   "name": "python",
   "nbconvert_exporter": "python",
   "pygments_lexer": "ipython3",
   "version": "3.12.7"
  }
 },
 "nbformat": 4,
 "nbformat_minor": 5
}
